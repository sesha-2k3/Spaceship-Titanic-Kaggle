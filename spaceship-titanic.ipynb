{
 "cells": [
  {
   "cell_type": "code",
   "execution_count": 1,
   "id": "41b253f8",
   "metadata": {
    "_cell_guid": "b1076dfc-b9ad-4769-8c92-a6c4dae69d19",
    "_uuid": "8f2839f25d086af736a60e9eeb907d3b93b6e0e5",
    "execution": {
     "iopub.execute_input": "2023-04-06T19:31:01.434809Z",
     "iopub.status.busy": "2023-04-06T19:31:01.433750Z",
     "iopub.status.idle": "2023-04-06T19:31:01.453629Z",
     "shell.execute_reply": "2023-04-06T19:31:01.452190Z"
    },
    "papermill": {
     "duration": 0.038362,
     "end_time": "2023-04-06T19:31:01.457025",
     "exception": false,
     "start_time": "2023-04-06T19:31:01.418663",
     "status": "completed"
    },
    "tags": []
   },
   "outputs": [
    {
     "name": "stdout",
     "output_type": "stream",
     "text": [
      "/kaggle/input/spaceship-titanic/sample_submission.csv\n",
      "/kaggle/input/spaceship-titanic/train.csv\n",
      "/kaggle/input/spaceship-titanic/test.csv\n"
     ]
    }
   ],
   "source": [
    "# This Python 3 environment comes with many helpful analytics libraries installed\n",
    "# It is defined by the kaggle/python Docker image: https://github.com/kaggle/docker-python\n",
    "# For example, here's several helpful packages to load\n",
    "\n",
    "import numpy as np # linear algebra\n",
    "import pandas as pd # data processing, CSV file I/O (e.g. pd.read_csv)\n",
    "\n",
    "# Input data files are available in the read-only \"../input/\" directory\n",
    "# For example, running this (by clicking run or pressing Shift+Enter) will list all files under the input directory\n",
    "\n",
    "import os\n",
    "for dirname, _, filenames in os.walk('/kaggle/input'):\n",
    "    for filename in filenames:\n",
    "        print(os.path.join(dirname, filename))\n",
    "\n",
    "# You can write up to 20GB to the current directory (/kaggle/working/) that gets preserved as output when you create a version using \"Save & Run All\" \n",
    "# You can also write temporary files to /kaggle/temp/, but they won't be saved outside of the current session"
   ]
  },
  {
   "cell_type": "markdown",
   "id": "a732c78c",
   "metadata": {
    "papermill": {
     "duration": 0.009239,
     "end_time": "2023-04-06T19:31:01.476804",
     "exception": false,
     "start_time": "2023-04-06T19:31:01.467565",
     "status": "completed"
    },
    "tags": []
   },
   "source": [
    "## Importing the Required Libraries"
   ]
  },
  {
   "cell_type": "code",
   "execution_count": 2,
   "id": "5f5e978b",
   "metadata": {
    "execution": {
     "iopub.execute_input": "2023-04-06T19:31:01.498911Z",
     "iopub.status.busy": "2023-04-06T19:31:01.498165Z",
     "iopub.status.idle": "2023-04-06T19:31:12.968581Z",
     "shell.execute_reply": "2023-04-06T19:31:12.967382Z"
    },
    "papermill": {
     "duration": 11.484821,
     "end_time": "2023-04-06T19:31:12.971655",
     "exception": false,
     "start_time": "2023-04-06T19:31:01.486834",
     "status": "completed"
    },
    "tags": []
   },
   "outputs": [],
   "source": [
    "import tensorflow as tf\n",
    "import tensorflow_decision_forests as tfdf\n",
    "import pandas as pd\n",
    "import numpy as np\n",
    "import seaborn as sns\n",
    "import matplotlib.pyplot as plt"
   ]
  },
  {
   "cell_type": "code",
   "execution_count": 3,
   "id": "1111a6f1",
   "metadata": {
    "execution": {
     "iopub.execute_input": "2023-04-06T19:31:12.996066Z",
     "iopub.status.busy": "2023-04-06T19:31:12.994336Z",
     "iopub.status.idle": "2023-04-06T19:31:13.001369Z",
     "shell.execute_reply": "2023-04-06T19:31:13.000110Z"
    },
    "papermill": {
     "duration": 0.02248,
     "end_time": "2023-04-06T19:31:13.004166",
     "exception": false,
     "start_time": "2023-04-06T19:31:12.981686",
     "status": "completed"
    },
    "tags": []
   },
   "outputs": [
    {
     "name": "stdout",
     "output_type": "stream",
     "text": [
      "Tensorflow Version: 2.11.0\n",
      "TfDf Version: 1.2.0\n"
     ]
    }
   ],
   "source": [
    "# Versions of Tensorflow and Tensorflow Decision Forests\n",
    "print(f'Tensorflow Version: {tf.__version__}')\n",
    "print(f'TfDf Version: {tfdf.__version__}')"
   ]
  },
  {
   "cell_type": "markdown",
   "id": "929d0dbe",
   "metadata": {
    "papermill": {
     "duration": 0.010059,
     "end_time": "2023-04-06T19:31:13.024931",
     "exception": false,
     "start_time": "2023-04-06T19:31:13.014872",
     "status": "completed"
    },
    "tags": []
   },
   "source": [
    "## Loading the data"
   ]
  },
  {
   "cell_type": "code",
   "execution_count": 4,
   "id": "371283be",
   "metadata": {
    "execution": {
     "iopub.execute_input": "2023-04-06T19:31:13.046509Z",
     "iopub.status.busy": "2023-04-06T19:31:13.045700Z",
     "iopub.status.idle": "2023-04-06T19:31:13.154610Z",
     "shell.execute_reply": "2023-04-06T19:31:13.153176Z"
    },
    "papermill": {
     "duration": 0.122465,
     "end_time": "2023-04-06T19:31:13.157137",
     "exception": false,
     "start_time": "2023-04-06T19:31:13.034672",
     "status": "completed"
    },
    "tags": []
   },
   "outputs": [
    {
     "data": {
      "text/html": [
       "<div>\n",
       "<style scoped>\n",
       "    .dataframe tbody tr th:only-of-type {\n",
       "        vertical-align: middle;\n",
       "    }\n",
       "\n",
       "    .dataframe tbody tr th {\n",
       "        vertical-align: top;\n",
       "    }\n",
       "\n",
       "    .dataframe thead th {\n",
       "        text-align: right;\n",
       "    }\n",
       "</style>\n",
       "<table border=\"1\" class=\"dataframe\">\n",
       "  <thead>\n",
       "    <tr style=\"text-align: right;\">\n",
       "      <th></th>\n",
       "      <th>PassengerId</th>\n",
       "      <th>HomePlanet</th>\n",
       "      <th>CryoSleep</th>\n",
       "      <th>Cabin</th>\n",
       "      <th>Destination</th>\n",
       "      <th>Age</th>\n",
       "      <th>VIP</th>\n",
       "      <th>RoomService</th>\n",
       "      <th>FoodCourt</th>\n",
       "      <th>ShoppingMall</th>\n",
       "      <th>Spa</th>\n",
       "      <th>VRDeck</th>\n",
       "      <th>Name</th>\n",
       "      <th>Transported</th>\n",
       "    </tr>\n",
       "  </thead>\n",
       "  <tbody>\n",
       "    <tr>\n",
       "      <th>0</th>\n",
       "      <td>0001_01</td>\n",
       "      <td>Europa</td>\n",
       "      <td>False</td>\n",
       "      <td>B/0/P</td>\n",
       "      <td>TRAPPIST-1e</td>\n",
       "      <td>39.0</td>\n",
       "      <td>False</td>\n",
       "      <td>0.0</td>\n",
       "      <td>0.0</td>\n",
       "      <td>0.0</td>\n",
       "      <td>0.0</td>\n",
       "      <td>0.0</td>\n",
       "      <td>Maham Ofracculy</td>\n",
       "      <td>False</td>\n",
       "    </tr>\n",
       "    <tr>\n",
       "      <th>1</th>\n",
       "      <td>0002_01</td>\n",
       "      <td>Earth</td>\n",
       "      <td>False</td>\n",
       "      <td>F/0/S</td>\n",
       "      <td>TRAPPIST-1e</td>\n",
       "      <td>24.0</td>\n",
       "      <td>False</td>\n",
       "      <td>109.0</td>\n",
       "      <td>9.0</td>\n",
       "      <td>25.0</td>\n",
       "      <td>549.0</td>\n",
       "      <td>44.0</td>\n",
       "      <td>Juanna Vines</td>\n",
       "      <td>True</td>\n",
       "    </tr>\n",
       "    <tr>\n",
       "      <th>2</th>\n",
       "      <td>0003_01</td>\n",
       "      <td>Europa</td>\n",
       "      <td>False</td>\n",
       "      <td>A/0/S</td>\n",
       "      <td>TRAPPIST-1e</td>\n",
       "      <td>58.0</td>\n",
       "      <td>True</td>\n",
       "      <td>43.0</td>\n",
       "      <td>3576.0</td>\n",
       "      <td>0.0</td>\n",
       "      <td>6715.0</td>\n",
       "      <td>49.0</td>\n",
       "      <td>Altark Susent</td>\n",
       "      <td>False</td>\n",
       "    </tr>\n",
       "    <tr>\n",
       "      <th>3</th>\n",
       "      <td>0003_02</td>\n",
       "      <td>Europa</td>\n",
       "      <td>False</td>\n",
       "      <td>A/0/S</td>\n",
       "      <td>TRAPPIST-1e</td>\n",
       "      <td>33.0</td>\n",
       "      <td>False</td>\n",
       "      <td>0.0</td>\n",
       "      <td>1283.0</td>\n",
       "      <td>371.0</td>\n",
       "      <td>3329.0</td>\n",
       "      <td>193.0</td>\n",
       "      <td>Solam Susent</td>\n",
       "      <td>False</td>\n",
       "    </tr>\n",
       "    <tr>\n",
       "      <th>4</th>\n",
       "      <td>0004_01</td>\n",
       "      <td>Earth</td>\n",
       "      <td>False</td>\n",
       "      <td>F/1/S</td>\n",
       "      <td>TRAPPIST-1e</td>\n",
       "      <td>16.0</td>\n",
       "      <td>False</td>\n",
       "      <td>303.0</td>\n",
       "      <td>70.0</td>\n",
       "      <td>151.0</td>\n",
       "      <td>565.0</td>\n",
       "      <td>2.0</td>\n",
       "      <td>Willy Santantines</td>\n",
       "      <td>True</td>\n",
       "    </tr>\n",
       "  </tbody>\n",
       "</table>\n",
       "</div>"
      ],
      "text/plain": [
       "  PassengerId HomePlanet CryoSleep  Cabin  Destination   Age    VIP  \\\n",
       "0     0001_01     Europa     False  B/0/P  TRAPPIST-1e  39.0  False   \n",
       "1     0002_01      Earth     False  F/0/S  TRAPPIST-1e  24.0  False   \n",
       "2     0003_01     Europa     False  A/0/S  TRAPPIST-1e  58.0   True   \n",
       "3     0003_02     Europa     False  A/0/S  TRAPPIST-1e  33.0  False   \n",
       "4     0004_01      Earth     False  F/1/S  TRAPPIST-1e  16.0  False   \n",
       "\n",
       "   RoomService  FoodCourt  ShoppingMall     Spa  VRDeck               Name  \\\n",
       "0          0.0        0.0           0.0     0.0     0.0    Maham Ofracculy   \n",
       "1        109.0        9.0          25.0   549.0    44.0       Juanna Vines   \n",
       "2         43.0     3576.0           0.0  6715.0    49.0      Altark Susent   \n",
       "3          0.0     1283.0         371.0  3329.0   193.0       Solam Susent   \n",
       "4        303.0       70.0         151.0   565.0     2.0  Willy Santantines   \n",
       "\n",
       "   Transported  \n",
       "0        False  \n",
       "1         True  \n",
       "2        False  \n",
       "3        False  \n",
       "4         True  "
      ]
     },
     "execution_count": 4,
     "metadata": {},
     "output_type": "execute_result"
    }
   ],
   "source": [
    "# Loading the Dataset\n",
    "df = pd.read_csv('/kaggle/input/spaceship-titanic/train.csv')\n",
    "\n",
    "# Sample:\n",
    "df.head()"
   ]
  },
  {
   "cell_type": "code",
   "execution_count": 5,
   "id": "ee54b8c1",
   "metadata": {
    "execution": {
     "iopub.execute_input": "2023-04-06T19:31:13.180691Z",
     "iopub.status.busy": "2023-04-06T19:31:13.180227Z",
     "iopub.status.idle": "2023-04-06T19:31:13.187513Z",
     "shell.execute_reply": "2023-04-06T19:31:13.186286Z"
    },
    "papermill": {
     "duration": 0.021792,
     "end_time": "2023-04-06T19:31:13.190074",
     "exception": false,
     "start_time": "2023-04-06T19:31:13.168282",
     "status": "completed"
    },
    "tags": []
   },
   "outputs": [
    {
     "data": {
      "text/plain": [
       "(8693, 14)"
      ]
     },
     "execution_count": 5,
     "metadata": {},
     "output_type": "execute_result"
    }
   ],
   "source": [
    "# Shape of the training Data:\n",
    "df.shape"
   ]
  },
  {
   "cell_type": "markdown",
   "id": "8f088b25",
   "metadata": {
    "papermill": {
     "duration": 0.00975,
     "end_time": "2023-04-06T19:31:13.210287",
     "exception": false,
     "start_time": "2023-04-06T19:31:13.200537",
     "status": "completed"
    },
    "tags": []
   },
   "source": [
    "## Gathering information about the data"
   ]
  },
  {
   "cell_type": "code",
   "execution_count": 6,
   "id": "2c0fc544",
   "metadata": {
    "execution": {
     "iopub.execute_input": "2023-04-06T19:31:13.232765Z",
     "iopub.status.busy": "2023-04-06T19:31:13.232310Z",
     "iopub.status.idle": "2023-04-06T19:31:13.282022Z",
     "shell.execute_reply": "2023-04-06T19:31:13.280689Z"
    },
    "papermill": {
     "duration": 0.064346,
     "end_time": "2023-04-06T19:31:13.284847",
     "exception": false,
     "start_time": "2023-04-06T19:31:13.220501",
     "status": "completed"
    },
    "tags": []
   },
   "outputs": [
    {
     "data": {
      "text/html": [
       "<div>\n",
       "<style scoped>\n",
       "    .dataframe tbody tr th:only-of-type {\n",
       "        vertical-align: middle;\n",
       "    }\n",
       "\n",
       "    .dataframe tbody tr th {\n",
       "        vertical-align: top;\n",
       "    }\n",
       "\n",
       "    .dataframe thead th {\n",
       "        text-align: right;\n",
       "    }\n",
       "</style>\n",
       "<table border=\"1\" class=\"dataframe\">\n",
       "  <thead>\n",
       "    <tr style=\"text-align: right;\">\n",
       "      <th></th>\n",
       "      <th>count</th>\n",
       "      <th>mean</th>\n",
       "      <th>std</th>\n",
       "      <th>min</th>\n",
       "      <th>25%</th>\n",
       "      <th>50%</th>\n",
       "      <th>75%</th>\n",
       "      <th>max</th>\n",
       "    </tr>\n",
       "  </thead>\n",
       "  <tbody>\n",
       "    <tr>\n",
       "      <th>Age</th>\n",
       "      <td>8514.0</td>\n",
       "      <td>28.827930</td>\n",
       "      <td>14.489021</td>\n",
       "      <td>0.0</td>\n",
       "      <td>19.0</td>\n",
       "      <td>27.0</td>\n",
       "      <td>38.0</td>\n",
       "      <td>79.0</td>\n",
       "    </tr>\n",
       "    <tr>\n",
       "      <th>RoomService</th>\n",
       "      <td>8512.0</td>\n",
       "      <td>224.687617</td>\n",
       "      <td>666.717663</td>\n",
       "      <td>0.0</td>\n",
       "      <td>0.0</td>\n",
       "      <td>0.0</td>\n",
       "      <td>47.0</td>\n",
       "      <td>14327.0</td>\n",
       "    </tr>\n",
       "    <tr>\n",
       "      <th>FoodCourt</th>\n",
       "      <td>8510.0</td>\n",
       "      <td>458.077203</td>\n",
       "      <td>1611.489240</td>\n",
       "      <td>0.0</td>\n",
       "      <td>0.0</td>\n",
       "      <td>0.0</td>\n",
       "      <td>76.0</td>\n",
       "      <td>29813.0</td>\n",
       "    </tr>\n",
       "    <tr>\n",
       "      <th>ShoppingMall</th>\n",
       "      <td>8485.0</td>\n",
       "      <td>173.729169</td>\n",
       "      <td>604.696458</td>\n",
       "      <td>0.0</td>\n",
       "      <td>0.0</td>\n",
       "      <td>0.0</td>\n",
       "      <td>27.0</td>\n",
       "      <td>23492.0</td>\n",
       "    </tr>\n",
       "    <tr>\n",
       "      <th>Spa</th>\n",
       "      <td>8510.0</td>\n",
       "      <td>311.138778</td>\n",
       "      <td>1136.705535</td>\n",
       "      <td>0.0</td>\n",
       "      <td>0.0</td>\n",
       "      <td>0.0</td>\n",
       "      <td>59.0</td>\n",
       "      <td>22408.0</td>\n",
       "    </tr>\n",
       "    <tr>\n",
       "      <th>VRDeck</th>\n",
       "      <td>8505.0</td>\n",
       "      <td>304.854791</td>\n",
       "      <td>1145.717189</td>\n",
       "      <td>0.0</td>\n",
       "      <td>0.0</td>\n",
       "      <td>0.0</td>\n",
       "      <td>46.0</td>\n",
       "      <td>24133.0</td>\n",
       "    </tr>\n",
       "  </tbody>\n",
       "</table>\n",
       "</div>"
      ],
      "text/plain": [
       "               count        mean          std  min   25%   50%   75%      max\n",
       "Age           8514.0   28.827930    14.489021  0.0  19.0  27.0  38.0     79.0\n",
       "RoomService   8512.0  224.687617   666.717663  0.0   0.0   0.0  47.0  14327.0\n",
       "FoodCourt     8510.0  458.077203  1611.489240  0.0   0.0   0.0  76.0  29813.0\n",
       "ShoppingMall  8485.0  173.729169   604.696458  0.0   0.0   0.0  27.0  23492.0\n",
       "Spa           8510.0  311.138778  1136.705535  0.0   0.0   0.0  59.0  22408.0\n",
       "VRDeck        8505.0  304.854791  1145.717189  0.0   0.0   0.0  46.0  24133.0"
      ]
     },
     "execution_count": 6,
     "metadata": {},
     "output_type": "execute_result"
    }
   ],
   "source": [
    "# EDA:\n",
    "df.describe().T"
   ]
  },
  {
   "cell_type": "code",
   "execution_count": 7,
   "id": "c72d6cd8",
   "metadata": {
    "execution": {
     "iopub.execute_input": "2023-04-06T19:31:13.307427Z",
     "iopub.status.busy": "2023-04-06T19:31:13.306993Z",
     "iopub.status.idle": "2023-04-06T19:31:13.331189Z",
     "shell.execute_reply": "2023-04-06T19:31:13.329435Z"
    },
    "papermill": {
     "duration": 0.03891,
     "end_time": "2023-04-06T19:31:13.334194",
     "exception": false,
     "start_time": "2023-04-06T19:31:13.295284",
     "status": "completed"
    },
    "tags": []
   },
   "outputs": [
    {
     "name": "stdout",
     "output_type": "stream",
     "text": [
      "<class 'pandas.core.frame.DataFrame'>\n",
      "RangeIndex: 8693 entries, 0 to 8692\n",
      "Data columns (total 14 columns):\n",
      " #   Column        Non-Null Count  Dtype  \n",
      "---  ------        --------------  -----  \n",
      " 0   PassengerId   8693 non-null   object \n",
      " 1   HomePlanet    8492 non-null   object \n",
      " 2   CryoSleep     8476 non-null   object \n",
      " 3   Cabin         8494 non-null   object \n",
      " 4   Destination   8511 non-null   object \n",
      " 5   Age           8514 non-null   float64\n",
      " 6   VIP           8490 non-null   object \n",
      " 7   RoomService   8512 non-null   float64\n",
      " 8   FoodCourt     8510 non-null   float64\n",
      " 9   ShoppingMall  8485 non-null   float64\n",
      " 10  Spa           8510 non-null   float64\n",
      " 11  VRDeck        8505 non-null   float64\n",
      " 12  Name          8493 non-null   object \n",
      " 13  Transported   8693 non-null   bool   \n",
      "dtypes: bool(1), float64(6), object(7)\n",
      "memory usage: 891.5+ KB\n"
     ]
    }
   ],
   "source": [
    "df.info()"
   ]
  },
  {
   "cell_type": "code",
   "execution_count": 8,
   "id": "b4320fd4",
   "metadata": {
    "execution": {
     "iopub.execute_input": "2023-04-06T19:31:13.358370Z",
     "iopub.status.busy": "2023-04-06T19:31:13.357077Z",
     "iopub.status.idle": "2023-04-06T19:31:13.649251Z",
     "shell.execute_reply": "2023-04-06T19:31:13.647850Z"
    },
    "papermill": {
     "duration": 0.307555,
     "end_time": "2023-04-06T19:31:13.652173",
     "exception": false,
     "start_time": "2023-04-06T19:31:13.344618",
     "status": "completed"
    },
    "tags": []
   },
   "outputs": [
    {
     "name": "stdout",
     "output_type": "stream",
     "text": [
      "True     4378\n",
      "False    4315\n",
      "Name: Transported, dtype: int64\n"
     ]
    },
    {
     "data": {
      "image/png": "[encoded data removed]",
      "text/plain": [
       "<Figure size 640x480 with 1 Axes>"
      ]
     },
     "metadata": {},
     "output_type": "display_data"
    }
   ],
   "source": [
    "# Bar Plot for the Survived:\n",
    "count = df['Transported'].value_counts()\n",
    "count.plot(kind = 'bar')\n",
    "print(count)"
   ]
  },
  {
   "cell_type": "markdown",
   "id": "ce3beda1",
   "metadata": {
    "papermill": {
     "duration": 0.01026,
     "end_time": "2023-04-06T19:31:13.673087",
     "exception": false,
     "start_time": "2023-04-06T19:31:13.662827",
     "status": "completed"
    },
    "tags": []
   },
   "source": [
    "## Numerical Feature Distributions:"
   ]
  },
  {
   "cell_type": "code",
   "execution_count": 9,
   "id": "8ff9cbba",
   "metadata": {
    "execution": {
     "iopub.execute_input": "2023-04-06T19:31:13.696729Z",
     "iopub.status.busy": "2023-04-06T19:31:13.696069Z",
     "iopub.status.idle": "2023-04-06T19:31:15.218926Z",
     "shell.execute_reply": "2023-04-06T19:31:15.217688Z"
    },
    "papermill": {
     "duration": 1.537837,
     "end_time": "2023-04-06T19:31:15.221670",
     "exception": false,
     "start_time": "2023-04-06T19:31:13.683833",
     "status": "completed"
    },
    "tags": []
   },
   "outputs": [
    {
     "data": {
      "image/png": "[encoded data removed]",
      "text/plain": [
       "<Figure size 1000x1000 with 5 Axes>"
      ]
     },
     "metadata": {},
     "output_type": "display_data"
    }
   ],
   "source": [
    "fig, ax = plt.subplots(5,1,  figsize=(10, 10))\n",
    "plt.subplots_adjust(top = 2)\n",
    "\n",
    "sns.histplot(df['Age'], color='b', bins=50, ax=ax[0]);\n",
    "sns.histplot(df['FoodCourt'], color='b', bins=50, ax=ax[1]);\n",
    "sns.histplot(df['ShoppingMall'], color='b', bins=50, ax=ax[2]);\n",
    "sns.histplot(df['Spa'], color='b', bins=50, ax=ax[3]);\n",
    "sns.histplot(df['VRDeck'], color='b', bins=50, ax=ax[4]);\n",
    "plt.show()"
   ]
  },
  {
   "cell_type": "markdown",
   "id": "fb46ad82",
   "metadata": {
    "papermill": {
     "duration": 0.011926,
     "end_time": "2023-04-06T19:31:15.246701",
     "exception": false,
     "start_time": "2023-04-06T19:31:15.234775",
     "status": "completed"
    },
    "tags": []
   },
   "source": [
    "## Preparing the Dataset"
   ]
  },
  {
   "cell_type": "code",
   "execution_count": 10,
   "id": "df11e14b",
   "metadata": {
    "execution": {
     "iopub.execute_input": "2023-04-06T19:31:15.273291Z",
     "iopub.status.busy": "2023-04-06T19:31:15.272845Z",
     "iopub.status.idle": "2023-04-06T19:31:15.300502Z",
     "shell.execute_reply": "2023-04-06T19:31:15.299002Z"
    },
    "papermill": {
     "duration": 0.044417,
     "end_time": "2023-04-06T19:31:15.303280",
     "exception": false,
     "start_time": "2023-04-06T19:31:15.258863",
     "status": "completed"
    },
    "tags": []
   },
   "outputs": [
    {
     "data": {
      "text/html": [
       "<div>\n",
       "<style scoped>\n",
       "    .dataframe tbody tr th:only-of-type {\n",
       "        vertical-align: middle;\n",
       "    }\n",
       "\n",
       "    .dataframe tbody tr th {\n",
       "        vertical-align: top;\n",
       "    }\n",
       "\n",
       "    .dataframe thead th {\n",
       "        text-align: right;\n",
       "    }\n",
       "</style>\n",
       "<table border=\"1\" class=\"dataframe\">\n",
       "  <thead>\n",
       "    <tr style=\"text-align: right;\">\n",
       "      <th></th>\n",
       "      <th>HomePlanet</th>\n",
       "      <th>CryoSleep</th>\n",
       "      <th>Cabin</th>\n",
       "      <th>Destination</th>\n",
       "      <th>Age</th>\n",
       "      <th>VIP</th>\n",
       "      <th>RoomService</th>\n",
       "      <th>FoodCourt</th>\n",
       "      <th>ShoppingMall</th>\n",
       "      <th>Spa</th>\n",
       "      <th>VRDeck</th>\n",
       "      <th>Transported</th>\n",
       "    </tr>\n",
       "  </thead>\n",
       "  <tbody>\n",
       "    <tr>\n",
       "      <th>0</th>\n",
       "      <td>Europa</td>\n",
       "      <td>False</td>\n",
       "      <td>B/0/P</td>\n",
       "      <td>TRAPPIST-1e</td>\n",
       "      <td>39.0</td>\n",
       "      <td>False</td>\n",
       "      <td>0.0</td>\n",
       "      <td>0.0</td>\n",
       "      <td>0.0</td>\n",
       "      <td>0.0</td>\n",
       "      <td>0.0</td>\n",
       "      <td>False</td>\n",
       "    </tr>\n",
       "    <tr>\n",
       "      <th>1</th>\n",
       "      <td>Earth</td>\n",
       "      <td>False</td>\n",
       "      <td>F/0/S</td>\n",
       "      <td>TRAPPIST-1e</td>\n",
       "      <td>24.0</td>\n",
       "      <td>False</td>\n",
       "      <td>109.0</td>\n",
       "      <td>9.0</td>\n",
       "      <td>25.0</td>\n",
       "      <td>549.0</td>\n",
       "      <td>44.0</td>\n",
       "      <td>True</td>\n",
       "    </tr>\n",
       "    <tr>\n",
       "      <th>2</th>\n",
       "      <td>Europa</td>\n",
       "      <td>False</td>\n",
       "      <td>A/0/S</td>\n",
       "      <td>TRAPPIST-1e</td>\n",
       "      <td>58.0</td>\n",
       "      <td>True</td>\n",
       "      <td>43.0</td>\n",
       "      <td>3576.0</td>\n",
       "      <td>0.0</td>\n",
       "      <td>6715.0</td>\n",
       "      <td>49.0</td>\n",
       "      <td>False</td>\n",
       "    </tr>\n",
       "    <tr>\n",
       "      <th>3</th>\n",
       "      <td>Europa</td>\n",
       "      <td>False</td>\n",
       "      <td>A/0/S</td>\n",
       "      <td>TRAPPIST-1e</td>\n",
       "      <td>33.0</td>\n",
       "      <td>False</td>\n",
       "      <td>0.0</td>\n",
       "      <td>1283.0</td>\n",
       "      <td>371.0</td>\n",
       "      <td>3329.0</td>\n",
       "      <td>193.0</td>\n",
       "      <td>False</td>\n",
       "    </tr>\n",
       "    <tr>\n",
       "      <th>4</th>\n",
       "      <td>Earth</td>\n",
       "      <td>False</td>\n",
       "      <td>F/1/S</td>\n",
       "      <td>TRAPPIST-1e</td>\n",
       "      <td>16.0</td>\n",
       "      <td>False</td>\n",
       "      <td>303.0</td>\n",
       "      <td>70.0</td>\n",
       "      <td>151.0</td>\n",
       "      <td>565.0</td>\n",
       "      <td>2.0</td>\n",
       "      <td>True</td>\n",
       "    </tr>\n",
       "  </tbody>\n",
       "</table>\n",
       "</div>"
      ],
      "text/plain": [
       "  HomePlanet CryoSleep  Cabin  Destination   Age    VIP  RoomService  \\\n",
       "0     Europa     False  B/0/P  TRAPPIST-1e  39.0  False          0.0   \n",
       "1      Earth     False  F/0/S  TRAPPIST-1e  24.0  False        109.0   \n",
       "2     Europa     False  A/0/S  TRAPPIST-1e  58.0   True         43.0   \n",
       "3     Europa     False  A/0/S  TRAPPIST-1e  33.0  False          0.0   \n",
       "4      Earth     False  F/1/S  TRAPPIST-1e  16.0  False        303.0   \n",
       "\n",
       "   FoodCourt  ShoppingMall     Spa  VRDeck  Transported  \n",
       "0        0.0           0.0     0.0     0.0        False  \n",
       "1        9.0          25.0   549.0    44.0         True  \n",
       "2     3576.0           0.0  6715.0    49.0        False  \n",
       "3     1283.0         371.0  3329.0   193.0        False  \n",
       "4       70.0         151.0   565.0     2.0         True  "
      ]
     },
     "execution_count": 10,
     "metadata": {},
     "output_type": "execute_result"
    }
   ],
   "source": [
    "# Drop unnecessary Columns\n",
    "# We drop PassengerId and Name as the do not affect the Target Variable\n",
    "df = df.drop(['PassengerId', 'Name'], axis=1)\n",
    "\n",
    "# Sample:\n",
    "df.head()"
   ]
  },
  {
   "cell_type": "code",
   "execution_count": 11,
   "id": "dcffe4af",
   "metadata": {
    "execution": {
     "iopub.execute_input": "2023-04-06T19:31:15.330706Z",
     "iopub.status.busy": "2023-04-06T19:31:15.329865Z",
     "iopub.status.idle": "2023-04-06T19:31:15.342663Z",
     "shell.execute_reply": "2023-04-06T19:31:15.341312Z"
    },
    "papermill": {
     "duration": 0.029672,
     "end_time": "2023-04-06T19:31:15.345372",
     "exception": false,
     "start_time": "2023-04-06T19:31:15.315700",
     "status": "completed"
    },
    "tags": []
   },
   "outputs": [
    {
     "data": {
      "text/plain": [
       "CryoSleep       217\n",
       "ShoppingMall    208\n",
       "VIP             203\n",
       "HomePlanet      201\n",
       "Cabin           199\n",
       "VRDeck          188\n",
       "FoodCourt       183\n",
       "Spa             183\n",
       "Destination     182\n",
       "RoomService     181\n",
       "Age             179\n",
       "Transported       0\n",
       "dtype: int64"
      ]
     },
     "execution_count": 11,
     "metadata": {},
     "output_type": "execute_result"
    }
   ],
   "source": [
    "# Missing Value informtion:\n",
    "df.isnull().sum().sort_values(ascending=False)"
   ]
  },
  {
   "cell_type": "code",
   "execution_count": 12,
   "id": "a8fc4da5",
   "metadata": {
    "execution": {
     "iopub.execute_input": "2023-04-06T19:31:15.372826Z",
     "iopub.status.busy": "2023-04-06T19:31:15.371964Z",
     "iopub.status.idle": "2023-04-06T19:31:15.391827Z",
     "shell.execute_reply": "2023-04-06T19:31:15.390457Z"
    },
    "papermill": {
     "duration": 0.036536,
     "end_time": "2023-04-06T19:31:15.394463",
     "exception": false,
     "start_time": "2023-04-06T19:31:15.357927",
     "status": "completed"
    },
    "tags": []
   },
   "outputs": [
    {
     "data": {
      "text/plain": [
       "HomePlanet      201\n",
       "Cabin           199\n",
       "Destination     182\n",
       "RoomService     181\n",
       "Age             179\n",
       "CryoSleep         0\n",
       "VIP               0\n",
       "FoodCourt         0\n",
       "ShoppingMall      0\n",
       "Spa               0\n",
       "VRDeck            0\n",
       "Transported       0\n",
       "dtype: int64"
      ]
     },
     "execution_count": 12,
     "metadata": {},
     "output_type": "execute_result"
    }
   ],
   "source": [
    "# Let us fill the Values using 0\n",
    "# TfDf will handle missing values in Categorical Columns\n",
    "df[['VIP', 'CryoSleep', 'FoodCourt', 'ShoppingMall', 'Spa', 'VRDeck']] = df[['VIP', 'CryoSleep', 'FoodCourt', 'ShoppingMall', 'Spa', 'VRDeck']].fillna(value=0)\n",
    "df.isnull().sum().sort_values(ascending=False)"
   ]
  },
  {
   "cell_type": "code",
   "execution_count": 13,
   "id": "f5d2452b",
   "metadata": {
    "execution": {
     "iopub.execute_input": "2023-04-06T19:31:15.421233Z",
     "iopub.status.busy": "2023-04-06T19:31:15.420824Z",
     "iopub.status.idle": "2023-04-06T19:31:15.426895Z",
     "shell.execute_reply": "2023-04-06T19:31:15.425518Z"
    },
    "papermill": {
     "duration": 0.022733,
     "end_time": "2023-04-06T19:31:15.429584",
     "exception": false,
     "start_time": "2023-04-06T19:31:15.406851",
     "status": "completed"
    },
    "tags": []
   },
   "outputs": [],
   "source": [
    "# TfDf cannot handle Boolean Values and our Target Variable is in boolean form\n",
    "# Let us transform that into binary values (0's and 1's)\n",
    "label = \"Transported\"\n",
    "df[label] = df[label].astype(int)"
   ]
  },
  {
   "cell_type": "code",
   "execution_count": 14,
   "id": "bce57ae4",
   "metadata": {
    "execution": {
     "iopub.execute_input": "2023-04-06T19:31:15.457224Z",
     "iopub.status.busy": "2023-04-06T19:31:15.456783Z",
     "iopub.status.idle": "2023-04-06T19:31:15.465730Z",
     "shell.execute_reply": "2023-04-06T19:31:15.464402Z"
    },
    "papermill": {
     "duration": 0.025869,
     "end_time": "2023-04-06T19:31:15.468273",
     "exception": false,
     "start_time": "2023-04-06T19:31:15.442404",
     "status": "completed"
    },
    "tags": []
   },
   "outputs": [],
   "source": [
    "# Let us transform CryoSleep and VIP into binary variables\n",
    "df['VIP'] = df['VIP'].astype(int)\n",
    "df['CryoSleep'] = df['CryoSleep'].astype(int)"
   ]
  },
  {
   "cell_type": "code",
   "execution_count": 15,
   "id": "9293c9b5",
   "metadata": {
    "execution": {
     "iopub.execute_input": "2023-04-06T19:31:15.495784Z",
     "iopub.status.busy": "2023-04-06T19:31:15.495077Z",
     "iopub.status.idle": "2023-04-06T19:31:15.515888Z",
     "shell.execute_reply": "2023-04-06T19:31:15.514828Z"
    },
    "papermill": {
     "duration": 0.036927,
     "end_time": "2023-04-06T19:31:15.518141",
     "exception": false,
     "start_time": "2023-04-06T19:31:15.481214",
     "status": "completed"
    },
    "tags": []
   },
   "outputs": [
    {
     "data": {
      "text/html": [
       "<div>\n",
       "<style scoped>\n",
       "    .dataframe tbody tr th:only-of-type {\n",
       "        vertical-align: middle;\n",
       "    }\n",
       "\n",
       "    .dataframe tbody tr th {\n",
       "        vertical-align: top;\n",
       "    }\n",
       "\n",
       "    .dataframe thead th {\n",
       "        text-align: right;\n",
       "    }\n",
       "</style>\n",
       "<table border=\"1\" class=\"dataframe\">\n",
       "  <thead>\n",
       "    <tr style=\"text-align: right;\">\n",
       "      <th></th>\n",
       "      <th>HomePlanet</th>\n",
       "      <th>CryoSleep</th>\n",
       "      <th>Cabin</th>\n",
       "      <th>Destination</th>\n",
       "      <th>Age</th>\n",
       "      <th>VIP</th>\n",
       "      <th>RoomService</th>\n",
       "      <th>FoodCourt</th>\n",
       "      <th>ShoppingMall</th>\n",
       "      <th>Spa</th>\n",
       "      <th>VRDeck</th>\n",
       "      <th>Transported</th>\n",
       "    </tr>\n",
       "  </thead>\n",
       "  <tbody>\n",
       "    <tr>\n",
       "      <th>2914</th>\n",
       "      <td>Mars</td>\n",
       "      <td>1</td>\n",
       "      <td>F/654/P</td>\n",
       "      <td>55 Cancri e</td>\n",
       "      <td>25.0</td>\n",
       "      <td>0</td>\n",
       "      <td>0.0</td>\n",
       "      <td>0.0</td>\n",
       "      <td>0.0</td>\n",
       "      <td>0.0</td>\n",
       "      <td>0.0</td>\n",
       "      <td>1</td>\n",
       "    </tr>\n",
       "  </tbody>\n",
       "</table>\n",
       "</div>"
      ],
      "text/plain": [
       "     HomePlanet  CryoSleep    Cabin  Destination   Age  VIP  RoomService  \\\n",
       "2914       Mars          1  F/654/P  55 Cancri e  25.0    0          0.0   \n",
       "\n",
       "      FoodCourt  ShoppingMall  Spa  VRDeck  Transported  \n",
       "2914        0.0           0.0  0.0     0.0            1  "
      ]
     },
     "execution_count": 15,
     "metadata": {},
     "output_type": "execute_result"
    }
   ],
   "source": [
    "df.sample(1)"
   ]
  },
  {
   "cell_type": "markdown",
   "id": "28c05d07",
   "metadata": {
    "papermill": {
     "duration": 0.012666,
     "end_time": "2023-04-06T19:31:15.543946",
     "exception": false,
     "start_time": "2023-04-06T19:31:15.531280",
     "status": "completed"
    },
    "tags": []
   },
   "source": [
    "As we can see that the Cabin column has three categories. Let us split them so that we can get more accurate predictions."
   ]
  },
  {
   "cell_type": "code",
   "execution_count": 16,
   "id": "bbcf881b",
   "metadata": {
    "execution": {
     "iopub.execute_input": "2023-04-06T19:31:15.572635Z",
     "iopub.status.busy": "2023-04-06T19:31:15.571290Z",
     "iopub.status.idle": "2023-04-06T19:31:15.596340Z",
     "shell.execute_reply": "2023-04-06T19:31:15.594972Z"
    },
    "papermill": {
     "duration": 0.042592,
     "end_time": "2023-04-06T19:31:15.599358",
     "exception": false,
     "start_time": "2023-04-06T19:31:15.556766",
     "status": "completed"
    },
    "tags": []
   },
   "outputs": [],
   "source": [
    "df[[\"Deck\", \"Cabin_num\", \"Side\"]] = df[\"Cabin\"].str.split(\"/\", expand=True)"
   ]
  },
  {
   "cell_type": "code",
   "execution_count": 17,
   "id": "431bc6e2",
   "metadata": {
    "execution": {
     "iopub.execute_input": "2023-04-06T19:31:15.627618Z",
     "iopub.status.busy": "2023-04-06T19:31:15.627135Z",
     "iopub.status.idle": "2023-04-06T19:31:15.648496Z",
     "shell.execute_reply": "2023-04-06T19:31:15.646992Z"
    },
    "papermill": {
     "duration": 0.038759,
     "end_time": "2023-04-06T19:31:15.651129",
     "exception": false,
     "start_time": "2023-04-06T19:31:15.612370",
     "status": "completed"
    },
    "tags": []
   },
   "outputs": [
    {
     "data": {
      "text/html": [
       "<div>\n",
       "<style scoped>\n",
       "    .dataframe tbody tr th:only-of-type {\n",
       "        vertical-align: middle;\n",
       "    }\n",
       "\n",
       "    .dataframe tbody tr th {\n",
       "        vertical-align: top;\n",
       "    }\n",
       "\n",
       "    .dataframe thead th {\n",
       "        text-align: right;\n",
       "    }\n",
       "</style>\n",
       "<table border=\"1\" class=\"dataframe\">\n",
       "  <thead>\n",
       "    <tr style=\"text-align: right;\">\n",
       "      <th></th>\n",
       "      <th>HomePlanet</th>\n",
       "      <th>CryoSleep</th>\n",
       "      <th>Cabin</th>\n",
       "      <th>Destination</th>\n",
       "      <th>Age</th>\n",
       "      <th>VIP</th>\n",
       "      <th>RoomService</th>\n",
       "      <th>FoodCourt</th>\n",
       "      <th>ShoppingMall</th>\n",
       "      <th>Spa</th>\n",
       "      <th>VRDeck</th>\n",
       "      <th>Transported</th>\n",
       "      <th>Deck</th>\n",
       "      <th>Cabin_num</th>\n",
       "      <th>Side</th>\n",
       "    </tr>\n",
       "  </thead>\n",
       "  <tbody>\n",
       "    <tr>\n",
       "      <th>5892</th>\n",
       "      <td>Mars</td>\n",
       "      <td>0</td>\n",
       "      <td>F/1199/S</td>\n",
       "      <td>TRAPPIST-1e</td>\n",
       "      <td>28.0</td>\n",
       "      <td>0</td>\n",
       "      <td>NaN</td>\n",
       "      <td>0.0</td>\n",
       "      <td>129.0</td>\n",
       "      <td>0.0</td>\n",
       "      <td>0.0</td>\n",
       "      <td>0</td>\n",
       "      <td>F</td>\n",
       "      <td>1199</td>\n",
       "      <td>S</td>\n",
       "    </tr>\n",
       "  </tbody>\n",
       "</table>\n",
       "</div>"
      ],
      "text/plain": [
       "     HomePlanet  CryoSleep     Cabin  Destination   Age  VIP  RoomService  \\\n",
       "5892       Mars          0  F/1199/S  TRAPPIST-1e  28.0    0          NaN   \n",
       "\n",
       "      FoodCourt  ShoppingMall  Spa  VRDeck  Transported Deck Cabin_num Side  \n",
       "5892        0.0         129.0  0.0     0.0            0    F      1199    S  "
      ]
     },
     "execution_count": 17,
     "metadata": {},
     "output_type": "execute_result"
    }
   ],
   "source": [
    "df.sample(1)"
   ]
  },
  {
   "cell_type": "code",
   "execution_count": 18,
   "id": "af540d80",
   "metadata": {
    "execution": {
     "iopub.execute_input": "2023-04-06T19:31:15.679799Z",
     "iopub.status.busy": "2023-04-06T19:31:15.678593Z",
     "iopub.status.idle": "2023-04-06T19:31:15.686478Z",
     "shell.execute_reply": "2023-04-06T19:31:15.685185Z"
    },
    "papermill": {
     "duration": 0.025135,
     "end_time": "2023-04-06T19:31:15.689116",
     "exception": false,
     "start_time": "2023-04-06T19:31:15.663981",
     "status": "completed"
    },
    "tags": []
   },
   "outputs": [],
   "source": [
    "# Let us drop the original column 'Cabin' from the dataset\n",
    "df = df.drop('Cabin', axis=1) #Drops the entire column"
   ]
  },
  {
   "cell_type": "code",
   "execution_count": 19,
   "id": "b00ece2b",
   "metadata": {
    "execution": {
     "iopub.execute_input": "2023-04-06T19:31:15.717725Z",
     "iopub.status.busy": "2023-04-06T19:31:15.716672Z",
     "iopub.status.idle": "2023-04-06T19:31:15.738897Z",
     "shell.execute_reply": "2023-04-06T19:31:15.737674Z"
    },
    "papermill": {
     "duration": 0.039349,
     "end_time": "2023-04-06T19:31:15.741370",
     "exception": false,
     "start_time": "2023-04-06T19:31:15.702021",
     "status": "completed"
    },
    "tags": []
   },
   "outputs": [
    {
     "data": {
      "text/html": [
       "<div>\n",
       "<style scoped>\n",
       "    .dataframe tbody tr th:only-of-type {\n",
       "        vertical-align: middle;\n",
       "    }\n",
       "\n",
       "    .dataframe tbody tr th {\n",
       "        vertical-align: top;\n",
       "    }\n",
       "\n",
       "    .dataframe thead th {\n",
       "        text-align: right;\n",
       "    }\n",
       "</style>\n",
       "<table border=\"1\" class=\"dataframe\">\n",
       "  <thead>\n",
       "    <tr style=\"text-align: right;\">\n",
       "      <th></th>\n",
       "      <th>HomePlanet</th>\n",
       "      <th>CryoSleep</th>\n",
       "      <th>Destination</th>\n",
       "      <th>Age</th>\n",
       "      <th>VIP</th>\n",
       "      <th>RoomService</th>\n",
       "      <th>FoodCourt</th>\n",
       "      <th>ShoppingMall</th>\n",
       "      <th>Spa</th>\n",
       "      <th>VRDeck</th>\n",
       "      <th>Transported</th>\n",
       "      <th>Deck</th>\n",
       "      <th>Cabin_num</th>\n",
       "      <th>Side</th>\n",
       "    </tr>\n",
       "  </thead>\n",
       "  <tbody>\n",
       "    <tr>\n",
       "      <th>0</th>\n",
       "      <td>Europa</td>\n",
       "      <td>0</td>\n",
       "      <td>TRAPPIST-1e</td>\n",
       "      <td>39.0</td>\n",
       "      <td>0</td>\n",
       "      <td>0.0</td>\n",
       "      <td>0.0</td>\n",
       "      <td>0.0</td>\n",
       "      <td>0.0</td>\n",
       "      <td>0.0</td>\n",
       "      <td>0</td>\n",
       "      <td>B</td>\n",
       "      <td>0</td>\n",
       "      <td>P</td>\n",
       "    </tr>\n",
       "    <tr>\n",
       "      <th>1</th>\n",
       "      <td>Earth</td>\n",
       "      <td>0</td>\n",
       "      <td>TRAPPIST-1e</td>\n",
       "      <td>24.0</td>\n",
       "      <td>0</td>\n",
       "      <td>109.0</td>\n",
       "      <td>9.0</td>\n",
       "      <td>25.0</td>\n",
       "      <td>549.0</td>\n",
       "      <td>44.0</td>\n",
       "      <td>1</td>\n",
       "      <td>F</td>\n",
       "      <td>0</td>\n",
       "      <td>S</td>\n",
       "    </tr>\n",
       "    <tr>\n",
       "      <th>2</th>\n",
       "      <td>Europa</td>\n",
       "      <td>0</td>\n",
       "      <td>TRAPPIST-1e</td>\n",
       "      <td>58.0</td>\n",
       "      <td>1</td>\n",
       "      <td>43.0</td>\n",
       "      <td>3576.0</td>\n",
       "      <td>0.0</td>\n",
       "      <td>6715.0</td>\n",
       "      <td>49.0</td>\n",
       "      <td>0</td>\n",
       "      <td>A</td>\n",
       "      <td>0</td>\n",
       "      <td>S</td>\n",
       "    </tr>\n",
       "    <tr>\n",
       "      <th>3</th>\n",
       "      <td>Europa</td>\n",
       "      <td>0</td>\n",
       "      <td>TRAPPIST-1e</td>\n",
       "      <td>33.0</td>\n",
       "      <td>0</td>\n",
       "      <td>0.0</td>\n",
       "      <td>1283.0</td>\n",
       "      <td>371.0</td>\n",
       "      <td>3329.0</td>\n",
       "      <td>193.0</td>\n",
       "      <td>0</td>\n",
       "      <td>A</td>\n",
       "      <td>0</td>\n",
       "      <td>S</td>\n",
       "    </tr>\n",
       "    <tr>\n",
       "      <th>4</th>\n",
       "      <td>Earth</td>\n",
       "      <td>0</td>\n",
       "      <td>TRAPPIST-1e</td>\n",
       "      <td>16.0</td>\n",
       "      <td>0</td>\n",
       "      <td>303.0</td>\n",
       "      <td>70.0</td>\n",
       "      <td>151.0</td>\n",
       "      <td>565.0</td>\n",
       "      <td>2.0</td>\n",
       "      <td>1</td>\n",
       "      <td>F</td>\n",
       "      <td>1</td>\n",
       "      <td>S</td>\n",
       "    </tr>\n",
       "  </tbody>\n",
       "</table>\n",
       "</div>"
      ],
      "text/plain": [
       "  HomePlanet  CryoSleep  Destination   Age  VIP  RoomService  FoodCourt  \\\n",
       "0     Europa          0  TRAPPIST-1e  39.0    0          0.0        0.0   \n",
       "1      Earth          0  TRAPPIST-1e  24.0    0        109.0        9.0   \n",
       "2     Europa          0  TRAPPIST-1e  58.0    1         43.0     3576.0   \n",
       "3     Europa          0  TRAPPIST-1e  33.0    0          0.0     1283.0   \n",
       "4      Earth          0  TRAPPIST-1e  16.0    0        303.0       70.0   \n",
       "\n",
       "   ShoppingMall     Spa  VRDeck  Transported Deck Cabin_num Side  \n",
       "0           0.0     0.0     0.0            0    B         0    P  \n",
       "1          25.0   549.0    44.0            1    F         0    S  \n",
       "2           0.0  6715.0    49.0            0    A         0    S  \n",
       "3         371.0  3329.0   193.0            0    A         0    S  \n",
       "4         151.0   565.0     2.0            1    F         1    S  "
      ]
     },
     "execution_count": 19,
     "metadata": {},
     "output_type": "execute_result"
    }
   ],
   "source": [
    "df.head()"
   ]
  },
  {
   "cell_type": "markdown",
   "id": "84f29bb8",
   "metadata": {
    "papermill": {
     "duration": 0.01264,
     "end_time": "2023-04-06T19:31:15.767209",
     "exception": false,
     "start_time": "2023-04-06T19:31:15.754569",
     "status": "completed"
    },
    "tags": []
   },
   "source": [
    "Since the categorical data can be managed by Tensorflow Decision Forests, there is no need to preprocess them. We can proceed to split the dataset into train and test set."
   ]
  },
  {
   "cell_type": "code",
   "execution_count": 20,
   "id": "f962a544",
   "metadata": {
    "execution": {
     "iopub.execute_input": "2023-04-06T19:31:15.795442Z",
     "iopub.status.busy": "2023-04-06T19:31:15.794992Z",
     "iopub.status.idle": "2023-04-06T19:31:15.805547Z",
     "shell.execute_reply": "2023-04-06T19:31:15.803737Z"
    },
    "papermill": {
     "duration": 0.028024,
     "end_time": "2023-04-06T19:31:15.808239",
     "exception": false,
     "start_time": "2023-04-06T19:31:15.780215",
     "status": "completed"
    },
    "tags": []
   },
   "outputs": [
    {
     "name": "stdout",
     "output_type": "stream",
     "text": [
      "7017 examples in training, 1676 examples in testing.\n"
     ]
    }
   ],
   "source": [
    "def split_dataset(dataset, test_ratio=0.20):\n",
    "  test_indices = np.random.rand(len(dataset)) < test_ratio\n",
    "  return dataset[~test_indices], dataset[test_indices]\n",
    "\n",
    "train_ds_pd, valid_ds_pd = split_dataset(df)\n",
    "print(\"{} examples in training, {} examples in testing.\".format(\n",
    "    len(train_ds_pd), len(valid_ds_pd)))"
   ]
  },
  {
   "cell_type": "code",
   "execution_count": 21,
   "id": "d1cc4503",
   "metadata": {
    "execution": {
     "iopub.execute_input": "2023-04-06T19:31:15.836459Z",
     "iopub.status.busy": "2023-04-06T19:31:15.836020Z",
     "iopub.status.idle": "2023-04-06T19:31:16.030858Z",
     "shell.execute_reply": "2023-04-06T19:31:16.029595Z"
    },
    "papermill": {
     "duration": 0.212594,
     "end_time": "2023-04-06T19:31:16.033948",
     "exception": false,
     "start_time": "2023-04-06T19:31:15.821354",
     "status": "completed"
    },
    "tags": []
   },
   "outputs": [],
   "source": [
    "# Let us convert the pandas dataframe to tensorflow dataset format.\n",
    "\n",
    "train_ds = tfdf.keras.pd_dataframe_to_tf_dataset(train_ds_pd, label=label)\n",
    "valid_ds = tfdf.keras.pd_dataframe_to_tf_dataset(valid_ds_pd, label=label)"
   ]
  },
  {
   "cell_type": "code",
   "execution_count": 22,
   "id": "2f92f271",
   "metadata": {
    "execution": {
     "iopub.execute_input": "2023-04-06T19:31:16.062988Z",
     "iopub.status.busy": "2023-04-06T19:31:16.062533Z",
     "iopub.status.idle": "2023-04-06T19:31:16.069089Z",
     "shell.execute_reply": "2023-04-06T19:31:16.068101Z"
    },
    "papermill": {
     "duration": 0.024022,
     "end_time": "2023-04-06T19:31:16.071410",
     "exception": false,
     "start_time": "2023-04-06T19:31:16.047388",
     "status": "completed"
    },
    "tags": []
   },
   "outputs": [
    {
     "data": {
      "text/plain": [
       "[tensorflow_decision_forests.keras.RandomForestModel,\n",
       " tensorflow_decision_forests.keras.GradientBoostedTreesModel,\n",
       " tensorflow_decision_forests.keras.CartModel,\n",
       " tensorflow_decision_forests.keras.DistributedGradientBoostedTreesModel]"
      ]
     },
     "execution_count": 22,
     "metadata": {},
     "output_type": "execute_result"
    }
   ],
   "source": [
    "# List of all models\n",
    "tfdf.keras.get_all_models()"
   ]
  },
  {
   "cell_type": "code",
   "execution_count": 23,
   "id": "3545e872",
   "metadata": {
    "execution": {
     "iopub.execute_input": "2023-04-06T19:31:16.100683Z",
     "iopub.status.busy": "2023-04-06T19:31:16.099835Z",
     "iopub.status.idle": "2023-04-06T19:31:16.135469Z",
     "shell.execute_reply": "2023-04-06T19:31:16.134496Z"
    },
    "papermill": {
     "duration": 0.053197,
     "end_time": "2023-04-06T19:31:16.138070",
     "exception": false,
     "start_time": "2023-04-06T19:31:16.084873",
     "status": "completed"
    },
    "tags": []
   },
   "outputs": [
    {
     "name": "stdout",
     "output_type": "stream",
     "text": [
      "Resolve hyper-parameter template \"benchmark_rank1\" to \"benchmark_rank1@v1\" -> {'winner_take_all': True, 'categorical_algorithm': 'RANDOM', 'split_axis': 'SPARSE_OBLIQUE', 'sparse_oblique_normalization': 'MIN_MAX', 'sparse_oblique_num_projections_exponent': 1.0}.\n",
      "Use /tmp/tmp08pfysqp as temporary training directory\n"
     ]
    }
   ],
   "source": [
    "# We use Random Forest Model\n",
    "rf = tfdf.keras.RandomForestModel(hyperparameter_template=\"benchmark_rank1\")\n"
   ]
  },
  {
   "cell_type": "code",
   "execution_count": 24,
   "id": "b2a2836e",
   "metadata": {
    "execution": {
     "iopub.execute_input": "2023-04-06T19:31:16.167792Z",
     "iopub.status.busy": "2023-04-06T19:31:16.166972Z",
     "iopub.status.idle": "2023-04-06T19:31:16.209773Z",
     "shell.execute_reply": "2023-04-06T19:31:16.208362Z"
    },
    "papermill": {
     "duration": 0.06106,
     "end_time": "2023-04-06T19:31:16.212731",
     "exception": false,
     "start_time": "2023-04-06T19:31:16.151671",
     "status": "completed"
    },
    "tags": []
   },
   "outputs": [
    {
     "name": "stdout",
     "output_type": "stream",
     "text": [
      "Use /tmp/tmpt4ou60p6 as temporary training directory\n"
     ]
    }
   ],
   "source": [
    "# Let us define or model\n",
    "rf = tfdf.keras.RandomForestModel()\n",
    "rf.compile(metrics=[\"accuracy\"]) "
   ]
  },
  {
   "cell_type": "code",
   "execution_count": 25,
   "id": "d6201af0",
   "metadata": {
    "execution": {
     "iopub.execute_input": "2023-04-06T19:31:16.244971Z",
     "iopub.status.busy": "2023-04-06T19:31:16.243759Z",
     "iopub.status.idle": "2023-04-06T19:32:44.537406Z",
     "shell.execute_reply": "2023-04-06T19:32:44.536113Z"
    },
    "papermill": {
     "duration": 88.31209,
     "end_time": "2023-04-06T19:32:44.540392",
     "exception": false,
     "start_time": "2023-04-06T19:31:16.228302",
     "status": "completed"
    },
    "tags": []
   },
   "outputs": [
    {
     "name": "stdout",
     "output_type": "stream",
     "text": [
      "Reading training dataset...\n",
      "Training dataset read in 0:00:06.426712. Found 7017 examples.\n",
      "Training model...\n"
     ]
    },
    {
     "name": "stderr",
     "output_type": "stream",
     "text": [
      "[INFO 2023-04-06T19:32:17.904693021+00:00 kernel.cc:1214] Loading model from path /tmp/tmpt4ou60p6/model/ with prefix cc486c5b6f0b481f\n"
     ]
    },
    {
     "name": "stdout",
     "output_type": "stream",
     "text": [
      "Model trained in 0:00:56.516032\n",
      "Compiling model...\n"
     ]
    },
    {
     "name": "stderr",
     "output_type": "stream",
     "text": [
      "[INFO 2023-04-06T19:32:19.094494152+00:00 decision_forest.cc:661] Model loaded with 300 root(s), 238042 node(s), and 13 input feature(s).\n",
      "[INFO 2023-04-06T19:32:19.094548023+00:00 abstract_model.cc:1311] Engine \"RandomForestGeneric\" built\n",
      "[INFO 2023-04-06T19:32:19.094593649+00:00 kernel.cc:1046] Use fast generic engine\n"
     ]
    },
    {
     "name": "stdout",
     "output_type": "stream",
     "text": [
      "WARNING: AutoGraph could not transform <function simple_ml_inference_op_with_handle at 0x708b89d755f0> and will run it as-is.\n",
      "Please report this to the TensorFlow team. When filing the bug, set the verbosity to 10 (on Linux, `export AUTOGRAPH_VERBOSITY=10`) and attach the full output.\n",
      "Cause: could not get source code\n",
      "To silence this warning, decorate the function with @tf.autograph.experimental.do_not_convert\n",
      "Model compiled.\n"
     ]
    },
    {
     "data": {
      "text/plain": [
       "<keras.callbacks.History at 0x708b7bea1350>"
      ]
     },
     "execution_count": 25,
     "metadata": {},
     "output_type": "execute_result"
    }
   ],
   "source": [
    "# Model Training\n",
    "rf.fit(x=train_ds)"
   ]
  },
  {
   "cell_type": "code",
   "execution_count": 26,
   "id": "19bb3b25",
   "metadata": {
    "execution": {
     "iopub.execute_input": "2023-04-06T19:32:44.570239Z",
     "iopub.status.busy": "2023-04-06T19:32:44.569787Z",
     "iopub.status.idle": "2023-04-06T19:33:43.352083Z",
     "shell.execute_reply": "2023-04-06T19:33:43.350733Z"
    },
    "papermill": {
     "duration": 58.814023,
     "end_time": "2023-04-06T19:33:43.368553",
     "exception": false,
     "start_time": "2023-04-06T19:32:44.554530",
     "status": "completed"
    },
    "tags": []
   },
   "outputs": [
    {
     "data": {
      "text/html": [
       "\n",
       "<script src=\"https://d3js.org/d3.v6.min.js\"></script>\n",
       "<div id=\"tree_plot_3a9abaa5315e4217b9838f212008f7e1\"></div>\n",
       "<script>\n",
       "/*\n",
       " * Copyright 2021 Google LLC.\n",
       " * Licensed under the Apache License, Version 2.0 (the \"License\");\n",
       " * you may not use this file except in compliance with the License.\n",
       " * You may obtain a copy of the License at\n",
       " *\n",
       " *     https://www.apache.org/licenses/LICENSE-2.0\n",
       " *\n",
       " * Unless required by applicable law or agreed to in writing, software\n",
       " * distributed under the License is distributed on an \"AS IS\" BASIS,\n",
       " * WITHOUT WARRANTIES OR CONDITIONS OF ANY KIND, either express or implied.\n",
       " * See the License for the specific language governing permissions and\n",
       " * limitations under the License.\n",
       " */\n",
       "\n",
       "/**\n",
       " *  Plotting of decision trees generated by TF-DF.\n",
       " *\n",
       " *  A tree is a recursive structure of node objects.\n",
       " *  A node contains one or more of the following components:\n",
       " *\n",
       " *    - A value: Representing the output of the node. If the node is not a leaf,\n",
       " *      the value is only present for analysis i.e. it is not used for\n",
       " *      predictions.\n",
       " *\n",
       " *    - A condition : For non-leaf nodes, the condition (also known as split)\n",
       " *      defines a binary test to branch to the positive or negative child.\n",
       " *\n",
       " *    - An explanation: Generally a plot showing the relation between the label\n",
       " *      and the condition to give insights about the effect of the condition.\n",
       " *\n",
       " *    - Two children : For non-leaf nodes, the children nodes. The first\n",
       " *      children (i.e. \"node.children[0]\") is the negative children (drawn in\n",
       " *      red). The second children is the positive one (drawn in green).\n",
       " *\n",
       " */\n",
       "\n",
       "/**\n",
       " * Plots a single decision tree into a DOM element.\n",
       " * @param {!options} options Dictionary of configurations.\n",
       " * @param {!tree} raw_tree Recursive tree structure.\n",
       " * @param {string} canvas_id Id of the output dom element.\n",
       " */\n",
       "function display_tree(options, raw_tree, canvas_id) {\n",
       "  console.log(options);\n",
       "\n",
       "  // Determine the node placement.\n",
       "  const tree_struct = d3.tree().nodeSize(\n",
       "      [options.node_y_offset, options.node_x_offset])(d3.hierarchy(raw_tree));\n",
       "\n",
       "  // Boundaries of the node placement.\n",
       "  let x_min = Infinity;\n",
       "  let x_max = -x_min;\n",
       "  let y_min = Infinity;\n",
       "  let y_max = -x_min;\n",
       "\n",
       "  tree_struct.each(d => {\n",
       "    if (d.x > x_max) x_max = d.x;\n",
       "    if (d.x < x_min) x_min = d.x;\n",
       "    if (d.y > y_max) y_max = d.y;\n",
       "    if (d.y < y_min) y_min = d.y;\n",
       "  });\n",
       "\n",
       "  // Size of the plot.\n",
       "  const width = y_max - y_min + options.node_x_size + options.margin * 2;\n",
       "  const height = x_max - x_min + options.node_y_size + options.margin * 2 +\n",
       "      options.node_y_offset - options.node_y_size;\n",
       "\n",
       "  const plot = d3.select(canvas_id);\n",
       "\n",
       "  // Tool tip\n",
       "  options.tooltip = plot.append('div')\n",
       "                        .attr('width', 100)\n",
       "                        .attr('height', 100)\n",
       "                        .style('padding', '4px')\n",
       "                        .style('background', '#fff')\n",
       "                        .style('box-shadow', '4px 4px 0px rgba(0,0,0,0.1)')\n",
       "                        .style('border', '1px solid black')\n",
       "                        .style('font-family', 'sans-serif')\n",
       "                        .style('font-size', options.font_size)\n",
       "                        .style('position', 'absolute')\n",
       "                        .style('z-index', '10')\n",
       "                        .attr('pointer-events', 'none')\n",
       "                        .style('display', 'none');\n",
       "\n",
       "  // Create canvas\n",
       "  const svg = plot.append('svg').attr('width', width).attr('height', height);\n",
       "  const graph =\n",
       "      svg.style('overflow', 'visible')\n",
       "          .append('g')\n",
       "          .attr('font-family', 'sans-serif')\n",
       "          .attr('font-size', options.font_size)\n",
       "          .attr(\n",
       "              'transform',\n",
       "              () => `translate(${options.margin},${\n",
       "                  - x_min + options.node_y_offset / 2 + options.margin})`);\n",
       "\n",
       "  // Plot bounding box.\n",
       "  if (options.show_plot_bounding_box) {\n",
       "    svg.append('rect')\n",
       "        .attr('width', width)\n",
       "        .attr('height', height)\n",
       "        .attr('fill', 'none')\n",
       "        .attr('stroke-width', 1.0)\n",
       "        .attr('stroke', 'black');\n",
       "  }\n",
       "\n",
       "  // Draw the edges.\n",
       "  display_edges(options, graph, tree_struct);\n",
       "\n",
       "  // Draw the nodes.\n",
       "  display_nodes(options, graph, tree_struct);\n",
       "}\n",
       "\n",
       "/**\n",
       " * Draw the nodes of the tree.\n",
       " * @param {!options} options Dictionary of configurations.\n",
       " * @param {!graph} graph D3 search handle containing the graph.\n",
       " * @param {!tree_struct} tree_struct Structure of the tree (node placement,\n",
       " *     data, etc.).\n",
       " */\n",
       "function display_nodes(options, graph, tree_struct) {\n",
       "  const nodes = graph.append('g')\n",
       "                    .selectAll('g')\n",
       "                    .data(tree_struct.descendants())\n",
       "                    .join('g')\n",
       "                    .attr('transform', d => `translate(${d.y},${d.x})`);\n",
       "\n",
       "  nodes.append('rect')\n",
       "      .attr('x', 0.5)\n",
       "      .attr('y', 0.5)\n",
       "      .attr('width', options.node_x_size)\n",
       "      .attr('height', options.node_y_size)\n",
       "      .attr('stroke', 'lightgrey')\n",
       "      .attr('stroke-width', 1)\n",
       "      .attr('fill', 'white')\n",
       "      .attr('y', -options.node_y_size / 2);\n",
       "\n",
       "  // Brackets on the right of condition nodes without children.\n",
       "  non_leaf_node_without_children =\n",
       "      nodes.filter(node => node.data.condition != null && node.children == null)\n",
       "          .append('g')\n",
       "          .attr('transform', `translate(${options.node_x_size},0)`);\n",
       "\n",
       "  non_leaf_node_without_children.append('path')\n",
       "      .attr('d', 'M0,0 C 10,0 0,10 10,10')\n",
       "      .attr('fill', 'none')\n",
       "      .attr('stroke-width', 1.0)\n",
       "      .attr('stroke', '#F00');\n",
       "\n",
       "  non_leaf_node_without_children.append('path')\n",
       "      .attr('d', 'M0,0 C 10,0 0,-10 10,-10')\n",
       "      .attr('fill', 'none')\n",
       "      .attr('stroke-width', 1.0)\n",
       "      .attr('stroke', '#0F0');\n",
       "\n",
       "  const node_content = nodes.append('g').attr(\n",
       "      'transform',\n",
       "      `translate(0,${options.node_padding - options.node_y_size / 2})`);\n",
       "\n",
       "  node_content.append(node => create_node_element(options, node));\n",
       "}\n",
       "\n",
       "/**\n",
       " * Creates the D3 content for a single node.\n",
       " * @param {!options} options Dictionary of configurations.\n",
       " * @param {!node} node Node to draw.\n",
       " * @return {!d3} D3 content.\n",
       " */\n",
       "function create_node_element(options, node) {\n",
       "  // Output accumulator.\n",
       "  let output = {\n",
       "    // Content to draw.\n",
       "    content: d3.create('svg:g'),\n",
       "    // Vertical offset to the next element to draw.\n",
       "    vertical_offset: 0\n",
       "  };\n",
       "\n",
       "  // Conditions.\n",
       "  if (node.data.condition != null) {\n",
       "    display_condition(options, node.data.condition, output);\n",
       "  }\n",
       "\n",
       "  // Values.\n",
       "  if (node.data.value != null) {\n",
       "    display_value(options, node.data.value, output);\n",
       "  }\n",
       "\n",
       "  // Explanations.\n",
       "  if (node.data.explanation != null) {\n",
       "    display_explanation(options, node.data.explanation, output);\n",
       "  }\n",
       "\n",
       "  return output.content.node();\n",
       "}\n",
       "\n",
       "\n",
       "/**\n",
       " * Adds a single line of text inside of a node.\n",
       " * @param {!options} options Dictionary of configurations.\n",
       " * @param {string} text Text to display.\n",
       " * @param {!output} output Output display accumulator.\n",
       " */\n",
       "function display_node_text(options, text, output) {\n",
       "  output.content.append('text')\n",
       "      .attr('x', options.node_padding)\n",
       "      .attr('y', output.vertical_offset)\n",
       "      .attr('alignment-baseline', 'hanging')\n",
       "      .text(text);\n",
       "  output.vertical_offset += 10;\n",
       "}\n",
       "\n",
       "/**\n",
       " * Adds a single line of text inside of a node with a tooltip.\n",
       " * @param {!options} options Dictionary of configurations.\n",
       " * @param {string} text Text to display.\n",
       " * @param {string} tooltip Text in the Tooltip.\n",
       " * @param {!output} output Output display accumulator.\n",
       " */\n",
       "function display_node_text_with_tooltip(options, text, tooltip, output) {\n",
       "  const item = output.content.append('text')\n",
       "                   .attr('x', options.node_padding)\n",
       "                   .attr('alignment-baseline', 'hanging')\n",
       "                   .text(text);\n",
       "\n",
       "  add_tooltip(options, item, () => tooltip);\n",
       "  output.vertical_offset += 10;\n",
       "}\n",
       "\n",
       "/**\n",
       " * Adds a tooltip to a dom element.\n",
       " * @param {!options} options Dictionary of configurations.\n",
       " * @param {!dom} target Dom element to equip with a tooltip.\n",
       " * @param {!func} get_content Generates the html content of the tooltip.\n",
       " */\n",
       "function add_tooltip(options, target, get_content) {\n",
       "  function show(d) {\n",
       "    options.tooltip.style('display', 'block');\n",
       "    options.tooltip.html(get_content());\n",
       "  }\n",
       "\n",
       "  function hide(d) {\n",
       "    options.tooltip.style('display', 'none');\n",
       "  }\n",
       "\n",
       "  function move(d) {\n",
       "    options.tooltip.style('display', 'block');\n",
       "    options.tooltip.style('left', (d.pageX + 5) + 'px');\n",
       "    options.tooltip.style('top', d.pageY + 'px');\n",
       "  }\n",
       "\n",
       "  target.on('mouseover', show);\n",
       "  target.on('mouseout', hide);\n",
       "  target.on('mousemove', move);\n",
       "}\n",
       "\n",
       "/**\n",
       " * Adds a condition inside of a node.\n",
       " * @param {!options} options Dictionary of configurations.\n",
       " * @param {!condition} condition Condition to display.\n",
       " * @param {!output} output Output display accumulator.\n",
       " */\n",
       "function display_condition(options, condition, output) {\n",
       "  threshold_format = d3.format('r');\n",
       "\n",
       "  if (condition.type === 'IS_MISSING') {\n",
       "    display_node_text(options, `${condition.attribute} is missing`, output);\n",
       "    return;\n",
       "  }\n",
       "\n",
       "  if (condition.type === 'IS_TRUE') {\n",
       "    display_node_text(options, `${condition.attribute} is true`, output);\n",
       "    return;\n",
       "  }\n",
       "\n",
       "  if (condition.type === 'NUMERICAL_IS_HIGHER_THAN') {\n",
       "    format = d3.format('r');\n",
       "    display_node_text(\n",
       "        options,\n",
       "        `${condition.attribute} >= ${threshold_format(condition.threshold)}`,\n",
       "        output);\n",
       "    return;\n",
       "  }\n",
       "\n",
       "  if (condition.type === 'CATEGORICAL_IS_IN') {\n",
       "    display_node_text_with_tooltip(\n",
       "        options, `${condition.attribute} in [...]`,\n",
       "        `${condition.attribute} in [${condition.mask}]`, output);\n",
       "    return;\n",
       "  }\n",
       "\n",
       "  if (condition.type === 'CATEGORICAL_SET_CONTAINS') {\n",
       "    display_node_text_with_tooltip(\n",
       "        options, `${condition.attribute} intersect [...]`,\n",
       "        `${condition.attribute} intersect [${condition.mask}]`, output);\n",
       "    return;\n",
       "  }\n",
       "\n",
       "  if (condition.type === 'NUMERICAL_SPARSE_OBLIQUE') {\n",
       "    display_node_text_with_tooltip(\n",
       "        options, `Sparse oblique split...`,\n",
       "        `[${condition.attributes}]*[${condition.weights}]>=${\n",
       "            threshold_format(condition.threshold)}`,\n",
       "        output);\n",
       "    return;\n",
       "  }\n",
       "\n",
       "  display_node_text(\n",
       "      options, `Non supported condition ${condition.type}`, output);\n",
       "}\n",
       "\n",
       "/**\n",
       " * Adds a value inside of a node.\n",
       " * @param {!options} options Dictionary of configurations.\n",
       " * @param {!value} value Value to display.\n",
       " * @param {!output} output Output display accumulator.\n",
       " */\n",
       "function display_value(options, value, output) {\n",
       "  if (value.type === 'PROBABILITY') {\n",
       "    const left_margin = 0;\n",
       "    const right_margin = 50;\n",
       "    const plot_width = options.node_x_size - options.node_padding * 2 -\n",
       "        left_margin - right_margin;\n",
       "\n",
       "    let cusum = Array.from(d3.cumsum(value.distribution));\n",
       "    cusum.unshift(0);\n",
       "    const distribution_plot = output.content.append('g').attr(\n",
       "        'transform', `translate(0,${output.vertical_offset + 0.5})`);\n",
       "\n",
       "    distribution_plot.selectAll('rect')\n",
       "        .data(value.distribution)\n",
       "        .join('rect')\n",
       "        .attr('height', 10)\n",
       "        .attr(\n",
       "            'x',\n",
       "            (d, i) =>\n",
       "                (cusum[i] * plot_width + left_margin + options.node_padding))\n",
       "        .attr('width', (d, i) => d * plot_width)\n",
       "        .style('fill', (d, i) => d3.schemeSet1[i]);\n",
       "\n",
       "    const num_examples =\n",
       "        output.content.append('g')\n",
       "            .attr('transform', `translate(0,${output.vertical_offset})`)\n",
       "            .append('text')\n",
       "            .attr('x', options.node_x_size - options.node_padding)\n",
       "            .attr('alignment-baseline', 'hanging')\n",
       "            .attr('text-anchor', 'end')\n",
       "            .text(`(${value.num_examples})`);\n",
       "\n",
       "    const distribution_details = d3.create('ul');\n",
       "    distribution_details.selectAll('li')\n",
       "        .data(value.distribution)\n",
       "        .join('li')\n",
       "        .append('span')\n",
       "        .text(\n",
       "            (d, i) =>\n",
       "                'class ' + i + ': ' + d3.format('.3%')(value.distribution[i]));\n",
       "\n",
       "    add_tooltip(options, distribution_plot, () => distribution_details.html());\n",
       "    add_tooltip(options, num_examples, () => 'Number of examples');\n",
       "\n",
       "    output.vertical_offset += 10;\n",
       "    return;\n",
       "  }\n",
       "\n",
       "  if (value.type === 'REGRESSION') {\n",
       "    display_node_text(\n",
       "        options,\n",
       "        'value: ' + d3.format('r')(value.value) + ` (` +\n",
       "            d3.format('.6')(value.num_examples) + `)`,\n",
       "        output);\n",
       "    return;\n",
       "  }\n",
       "\n",
       "  display_node_text(options, `Non supported value ${value.type}`, output);\n",
       "}\n",
       "\n",
       "/**\n",
       " * Adds an explanation inside of a node.\n",
       " * @param {!options} options Dictionary of configurations.\n",
       " * @param {!explanation} explanation Explanation to display.\n",
       " * @param {!output} output Output display accumulator.\n",
       " */\n",
       "function display_explanation(options, explanation, output) {\n",
       "  // Margin before the explanation.\n",
       "  output.vertical_offset += 10;\n",
       "\n",
       "  display_node_text(\n",
       "      options, `Non supported explanation ${explanation.type}`, output);\n",
       "}\n",
       "\n",
       "\n",
       "/**\n",
       " * Draw the edges of the tree.\n",
       " * @param {!options} options Dictionary of configurations.\n",
       " * @param {!graph} graph D3 search handle containing the graph.\n",
       " * @param {!tree_struct} tree_struct Structure of the tree (node placement,\n",
       " *     data, etc.).\n",
       " */\n",
       "function display_edges(options, graph, tree_struct) {\n",
       "  // Draw an edge between a parent and a child node with a bezier.\n",
       "  function draw_single_edge(d) {\n",
       "    return 'M' + (d.source.y + options.node_x_size) + ',' + d.source.x + ' C' +\n",
       "        (d.source.y + options.node_x_size + options.edge_rounding) + ',' +\n",
       "        d.source.x + ' ' + (d.target.y - options.edge_rounding) + ',' +\n",
       "        d.target.x + ' ' + d.target.y + ',' + d.target.x;\n",
       "  }\n",
       "\n",
       "  graph.append('g')\n",
       "      .attr('fill', 'none')\n",
       "      .attr('stroke-width', 1.2)\n",
       "      .selectAll('path')\n",
       "      .data(tree_struct.links())\n",
       "      .join('path')\n",
       "      .attr('d', draw_single_edge)\n",
       "      .attr(\n",
       "          'stroke', d => (d.target === d.source.children[0]) ? '#0F0' : '#F00');\n",
       "}\n",
       "\n",
       "display_tree({\"margin\": 10, \"node_x_size\": 160, \"node_y_size\": 28, \"node_x_offset\": 180, \"node_y_offset\": 33, \"font_size\": 10, \"edge_rounding\": 20, \"node_padding\": 2, \"show_plot_bounding_box\": false}, {\"value\": {\"type\": \"PROBABILITY\", \"distribution\": [0.49821861194242556, 0.5017813880575744], \"num_examples\": 7017.0}, \"condition\": {\"type\": \"NUMERICAL_IS_HIGHER_THAN\", \"attribute\": \"Spa\", \"threshold\": 0.5}, \"children\": [{\"value\": {\"type\": \"PROBABILITY\", \"distribution\": [0.7198760170476559, 0.28012398295234403], \"num_examples\": 2581.0}, \"condition\": {\"type\": \"NUMERICAL_IS_HIGHER_THAN\", \"attribute\": \"FoodCourt\", \"threshold\": 1171.0}, \"children\": [{\"value\": {\"type\": \"PROBABILITY\", \"distribution\": [0.48247078464106846, 0.5175292153589316], \"num_examples\": 599.0}, \"condition\": {\"type\": \"NUMERICAL_IS_HIGHER_THAN\", \"attribute\": \"VRDeck\", \"threshold\": 974.5}, \"children\": [{\"value\": {\"type\": \"PROBABILITY\", \"distribution\": [0.7676767676767676, 0.23232323232323232], \"num_examples\": 198.0}, \"condition\": {\"type\": \"CATEGORICAL_IS_IN\", \"attribute\": \"Cabin_num\", \"mask\": [\"<OOD>\", \"176\", \"125\", \"144\", \"118\", \"103\", \"44\", \"91\", \"72\", \"225\", \"201\", \"150\", \"9\", \"60\", \"54\", \"270\", \"255\", \"246\", \"116\", \"11\", \"77\", \"238\", \"226\", \"208\", \"185\", \"58\", \"319\", \"253\", \"206\", \"192\", \"189\", \"142\", \"122\", \"102\", \"101\", \"64\", \"220\", \"98\", \"94\", \"88\", \"300\", \"298\", \"297\", \"310\", \"308\", \"296\", \"257\", \"104\"]}}, {\"value\": {\"type\": \"PROBABILITY\", \"distribution\": [0.341645885286783, 0.6583541147132169], \"num_examples\": 401.0}, \"condition\": {\"type\": \"NUMERICAL_IS_HIGHER_THAN\", \"attribute\": \"FoodCourt\", \"threshold\": 3862.5}}]}, {\"value\": {\"type\": \"PROBABILITY\", \"distribution\": [0.7916246215943491, 0.20837537840565085], \"num_examples\": 1982.0}, \"condition\": {\"type\": \"NUMERICAL_IS_HIGHER_THAN\", \"attribute\": \"ShoppingMall\", \"threshold\": 285.5}, \"children\": [{\"value\": {\"type\": \"PROBABILITY\", \"distribution\": [0.6090712742980562, 0.39092872570194387], \"num_examples\": 463.0}, \"condition\": {\"type\": \"NUMERICAL_IS_HIGHER_THAN\", \"attribute\": \"ShoppingMall\", \"threshold\": 1903.0}}, {\"value\": {\"type\": \"PROBABILITY\", \"distribution\": [0.847267939433838, 0.15273206056616195], \"num_examples\": 1519.0}, \"condition\": {\"type\": \"NUMERICAL_IS_HIGHER_THAN\", \"attribute\": \"Spa\", \"threshold\": 656.5}}]}]}, {\"value\": {\"type\": \"PROBABILITY\", \"distribution\": [0.3692515779981966, 0.6307484220018035], \"num_examples\": 4436.0}, \"condition\": {\"type\": \"CATEGORICAL_IS_IN\", \"attribute\": \"HomePlanet\", \"mask\": [\"Europa\"]}, \"children\": [{\"value\": {\"type\": \"PROBABILITY\", \"distribution\": [0.0768361581920904, 0.9231638418079096], \"num_examples\": 885.0}, \"condition\": {\"type\": \"NUMERICAL_IS_HIGHER_THAN\", \"attribute\": \"VRDeck\", \"threshold\": 1340.0}, \"children\": [{\"value\": {\"type\": \"PROBABILITY\", \"distribution\": [0.7346938775510204, 0.2653061224489796], \"num_examples\": 49.0}, \"condition\": {\"type\": \"NUMERICAL_IS_HIGHER_THAN\", \"attribute\": \"VRDeck\", \"threshold\": 3882.0}}, {\"value\": {\"type\": \"PROBABILITY\", \"distribution\": [0.03827751196172249, 0.9617224880382775], \"num_examples\": 836.0}, \"condition\": {\"type\": \"CATEGORICAL_IS_IN\", \"attribute\": \"Cabin_num\", \"mask\": [\"56\", \"86\", \"230\", \"176\", \"109\", \"186\", \"18\", \"53\", \"16\", \"175\", \"144\", \"14\", \"118\", \"44\", \"42\", \"38\", \"27\", \"247\", \"20\", \"151\", \"123\", \"120\", \"95\", \"83\", \"137\", \"121\", \"117\", \"9\", \"81\", \"63\", \"47\", \"288\", \"283\", \"258\", \"255\", \"23\", \"229\", \"213\", \"194\", \"156\", \"116\", \"11\", \"1\", \"92\", \"78\", \"77\", \"76\", \"62\", \"59\", \"306\", \"262\", \"259\", \"25\", \"226\", \"218\", \"185\", \"145\", \"140\", \"129\", \"85\", \"6\", \"58\", \"215\", \"200\", \"163\", \"149\", \"142\", \"127\", \"122\", \"90\", \"71\", \"66\", \"51\", \"43\", \"279\", \"272\", \"26\", \"233\", \"221\", \"183\", \"152\", \"113\", \"98\", \"94\", \"88\", \"48\", \"340\", \"323\", \"315\", \"309\", \"300\", \"287\", \"264\", \"251\", \"249\", \"219\", \"214\", \"161\", \"143\", \"136\", \"131\", \"7\", \"67\", \"61\", \"574\", \"49\", \"445\", \"39\", \"31\", \"307\", \"296\", \"293\", \"286\", \"210\", \"180\", \"170\", \"165\", \"159\", \"147\", \"132\", \"87\", \"84\", \"500\", \"477\", \"426\", \"33\", \"325\", \"280\", \"188\", \"167\", \"588\", \"337\", \"333\", \"301\", \"284\", \"202\", \"169\", \"148\", \"139\"]}}]}, {\"value\": {\"type\": \"PROBABILITY\", \"distribution\": [0.4421289777527457, 0.5578710222472543], \"num_examples\": 3551.0}, \"condition\": {\"type\": \"NUMERICAL_IS_HIGHER_THAN\", \"attribute\": \"CryoSleep\", \"threshold\": 0.5}, \"children\": [{\"value\": {\"type\": \"PROBABILITY\", \"distribution\": [0.26091954022988506, 0.7390804597701149], \"num_examples\": 1740.0}, \"condition\": {\"type\": \"CATEGORICAL_IS_IN\", \"attribute\": \"Deck\", \"mask\": [\"F\", \"B\", \"C\", \"D\", \"A\"]}}, {\"value\": {\"type\": \"PROBABILITY\", \"distribution\": [0.616234124792932, 0.3837658752070679], \"num_examples\": 1811.0}, \"condition\": {\"type\": \"NUMERICAL_IS_HIGHER_THAN\", \"attribute\": \"Age\", \"threshold\": 10.5}}]}]}]}, \"#tree_plot_3a9abaa5315e4217b9838f212008f7e1\")\n",
       "</script>\n"
      ],
      "text/plain": [
       "<IPython.core.display.HTML object>"
      ]
     },
     "execution_count": 26,
     "metadata": {},
     "output_type": "execute_result"
    }
   ],
   "source": [
    "# Let us visualize the model\n",
    "# This is the visualization of a tree. By default tensorflow uses 300 trees\n",
    "tfdf.model_plotter.plot_model_in_colab(rf, tree_idx=110, max_depth=3)"
   ]
  },
  {
   "cell_type": "code",
   "execution_count": 27,
   "id": "fe9b1056",
   "metadata": {
    "execution": {
     "iopub.execute_input": "2023-04-06T19:33:43.400481Z",
     "iopub.status.busy": "2023-04-06T19:33:43.400014Z",
     "iopub.status.idle": "2023-04-06T19:33:43.624131Z",
     "shell.execute_reply": "2023-04-06T19:33:43.622450Z"
    },
    "papermill": {
     "duration": 0.243709,
     "end_time": "2023-04-06T19:33:43.627280",
     "exception": false,
     "start_time": "2023-04-06T19:33:43.383571",
     "status": "completed"
    },
    "tags": []
   },
   "outputs": [
    {
     "data": {
      "image/png": "[encoded data removed]",
      "text/plain": [
       "<Figure size 640x480 with 1 Axes>"
      ]
     },
     "metadata": {},
     "output_type": "display_data"
    }
   ],
   "source": [
    "# Le us evaluate the model on the OOB set\n",
    "import matplotlib.pyplot as plt\n",
    "logs = rf.make_inspector().training_logs()\n",
    "plt.plot([log.num_trees for log in logs], [log.evaluation.accuracy for log in logs])\n",
    "plt.xlabel(\"Number of trees\")\n",
    "plt.ylabel(\"Accuracy (out-of-bag)\")\n",
    "plt.show()"
   ]
  },
  {
   "cell_type": "code",
   "execution_count": 28,
   "id": "0cad6114",
   "metadata": {
    "execution": {
     "iopub.execute_input": "2023-04-06T19:33:43.660686Z",
     "iopub.status.busy": "2023-04-06T19:33:43.659600Z",
     "iopub.status.idle": "2023-04-06T19:33:43.670257Z",
     "shell.execute_reply": "2023-04-06T19:33:43.668895Z"
    },
    "papermill": {
     "duration": 0.030335,
     "end_time": "2023-04-06T19:33:43.673233",
     "exception": false,
     "start_time": "2023-04-06T19:33:43.642898",
     "status": "completed"
    },
    "tags": []
   },
   "outputs": [
    {
     "data": {
      "text/plain": [
       "Evaluation(num_examples=7017, accuracy=0.7973492945703292, loss=0.5570347068750496, rmse=None, ndcg=None, aucs=None, auuc=None, qini=None)"
      ]
     },
     "execution_count": 28,
     "metadata": {},
     "output_type": "execute_result"
    }
   ],
   "source": [
    "# General Stats about the OOB\n",
    "inspector = rf.make_inspector()\n",
    "inspector.evaluation()"
   ]
  },
  {
   "cell_type": "code",
   "execution_count": 29,
   "id": "eb81c580",
   "metadata": {
    "execution": {
     "iopub.execute_input": "2023-04-06T19:33:43.706747Z",
     "iopub.status.busy": "2023-04-06T19:33:43.705814Z",
     "iopub.status.idle": "2023-04-06T19:33:44.346995Z",
     "shell.execute_reply": "2023-04-06T19:33:44.345851Z"
    },
    "papermill": {
     "duration": 0.660747,
     "end_time": "2023-04-06T19:33:44.349523",
     "exception": false,
     "start_time": "2023-04-06T19:33:43.688776",
     "status": "completed"
    },
    "tags": []
   },
   "outputs": [
    {
     "name": "stdout",
     "output_type": "stream",
     "text": [
      "2/2 [==============================] - 1s 63ms/step - loss: 0.0000e+00 - accuracy: 0.7965\n",
      "loss: 0.0000\n",
      "accuracy: 0.7965\n"
     ]
    }
   ],
   "source": [
    "# Let us validate the model using the validation Dataset\n",
    "evaluation = rf.evaluate(x=valid_ds,return_dict=True)\n",
    "\n",
    "for name, value in evaluation.items():\n",
    "  print(f\"{name}: {value:.4f}\")"
   ]
  },
  {
   "cell_type": "code",
   "execution_count": 30,
   "id": "5acef077",
   "metadata": {
    "execution": {
     "iopub.execute_input": "2023-04-06T19:33:44.382780Z",
     "iopub.status.busy": "2023-04-06T19:33:44.382057Z",
     "iopub.status.idle": "2023-04-06T19:33:44.389334Z",
     "shell.execute_reply": "2023-04-06T19:33:44.387489Z"
    },
    "papermill": {
     "duration": 0.027229,
     "end_time": "2023-04-06T19:33:44.392344",
     "exception": false,
     "start_time": "2023-04-06T19:33:44.365115",
     "status": "completed"
    },
    "tags": []
   },
   "outputs": [
    {
     "name": "stdout",
     "output_type": "stream",
     "text": [
      "Available variable importances:\n",
      "\t NUM_NODES\n",
      "\t NUM_AS_ROOT\n",
      "\t SUM_SCORE\n",
      "\t INV_MEAN_MIN_DEPTH\n"
     ]
    }
   ],
   "source": [
    "# Variable Importance\n",
    "print(f\"Available variable importances:\")\n",
    "for importance in inspector.variable_importances().keys():\n",
    "  print(\"\\t\", importance)"
   ]
  },
  {
   "cell_type": "code",
   "execution_count": 31,
   "id": "3f6f09c7",
   "metadata": {
    "execution": {
     "iopub.execute_input": "2023-04-06T19:33:44.425444Z",
     "iopub.status.busy": "2023-04-06T19:33:44.424973Z",
     "iopub.status.idle": "2023-04-06T19:33:44.433410Z",
     "shell.execute_reply": "2023-04-06T19:33:44.432396Z"
    },
    "papermill": {
     "duration": 0.027845,
     "end_time": "2023-04-06T19:33:44.435874",
     "exception": false,
     "start_time": "2023-04-06T19:33:44.408029",
     "status": "completed"
    },
    "tags": []
   },
   "outputs": [
    {
     "data": {
      "text/plain": [
       "[(\"Cabin_num\" (4; #1), 261339.4802761887),\n",
       " (\"CryoSleep\" (1; #2), 140121.43369153969),\n",
       " (\"Spa\" (1; #10), 115744.86332404416),\n",
       " (\"RoomService\" (1; #7), 98098.06218612776),\n",
       " (\"VRDeck\" (1; #12), 96436.61740918976),\n",
       " (\"Deck\" (4; #3), 86407.69858785218),\n",
       " (\"Age\" (1; #0), 83554.34713326611),\n",
       " (\"FoodCourt\" (1; #5), 78115.81994676322),\n",
       " (\"ShoppingMall\" (1; #8), 54224.68235315458),\n",
       " (\"HomePlanet\" (4; #6), 51871.31088760303),\n",
       " (\"Side\" (4; #9), 18177.866253579967),\n",
       " (\"Destination\" (4; #4), 17552.280663679703),\n",
       " (\"VIP\" (1; #11), 260.78685989952646)]"
      ]
     },
     "execution_count": 31,
     "metadata": {},
     "output_type": "execute_result"
    }
   ],
   "source": [
    "# Each line is: (feature name, (index of the feature), importance score)\n",
    "inspector.variable_importances()[\"SUM_SCORE\"]"
   ]
  },
  {
   "cell_type": "markdown",
   "id": "f73d9808",
   "metadata": {
    "papermill": {
     "duration": 0.015394,
     "end_time": "2023-04-06T19:33:44.468028",
     "exception": false,
     "start_time": "2023-04-06T19:33:44.452634",
     "status": "completed"
    },
    "tags": []
   },
   "source": [
    "## Submission"
   ]
  },
  {
   "cell_type": "code",
   "execution_count": 32,
   "id": "160c0a86",
   "metadata": {
    "execution": {
     "iopub.execute_input": "2023-04-06T19:33:44.502240Z",
     "iopub.status.busy": "2023-04-06T19:33:44.501208Z",
     "iopub.status.idle": "2023-04-06T19:33:45.140105Z",
     "shell.execute_reply": "2023-04-06T19:33:45.139111Z"
    },
    "papermill": {
     "duration": 0.658917,
     "end_time": "2023-04-06T19:33:45.142778",
     "exception": false,
     "start_time": "2023-04-06T19:33:44.483861",
     "status": "completed"
    },
    "tags": []
   },
   "outputs": [
    {
     "name": "stdout",
     "output_type": "stream",
     "text": [
      "5/5 [==============================] - 1s 67ms/step\n"
     ]
    },
    {
     "data": {
      "text/html": [
       "<div>\n",
       "<style scoped>\n",
       "    .dataframe tbody tr th:only-of-type {\n",
       "        vertical-align: middle;\n",
       "    }\n",
       "\n",
       "    .dataframe tbody tr th {\n",
       "        vertical-align: top;\n",
       "    }\n",
       "\n",
       "    .dataframe thead th {\n",
       "        text-align: right;\n",
       "    }\n",
       "</style>\n",
       "<table border=\"1\" class=\"dataframe\">\n",
       "  <thead>\n",
       "    <tr style=\"text-align: right;\">\n",
       "      <th></th>\n",
       "      <th>PassengerId</th>\n",
       "      <th>Transported</th>\n",
       "    </tr>\n",
       "  </thead>\n",
       "  <tbody>\n",
       "    <tr>\n",
       "      <th>0</th>\n",
       "      <td>0013_01</td>\n",
       "      <td>True</td>\n",
       "    </tr>\n",
       "    <tr>\n",
       "      <th>1</th>\n",
       "      <td>0018_01</td>\n",
       "      <td>False</td>\n",
       "    </tr>\n",
       "    <tr>\n",
       "      <th>2</th>\n",
       "      <td>0019_01</td>\n",
       "      <td>True</td>\n",
       "    </tr>\n",
       "    <tr>\n",
       "      <th>3</th>\n",
       "      <td>0021_01</td>\n",
       "      <td>True</td>\n",
       "    </tr>\n",
       "    <tr>\n",
       "      <th>4</th>\n",
       "      <td>0023_01</td>\n",
       "      <td>False</td>\n",
       "    </tr>\n",
       "  </tbody>\n",
       "</table>\n",
       "</div>"
      ],
      "text/plain": [
       "  PassengerId  Transported\n",
       "0     0013_01         True\n",
       "1     0018_01        False\n",
       "2     0019_01         True\n",
       "3     0021_01         True\n",
       "4     0023_01        False"
      ]
     },
     "execution_count": 32,
     "metadata": {},
     "output_type": "execute_result"
    }
   ],
   "source": [
    "# Load the test dataset\n",
    "test_df = pd.read_csv('/kaggle/input/spaceship-titanic/test.csv')\n",
    "submission_id = test_df.PassengerId\n",
    "\n",
    "# Replace NaN values with zero\n",
    "test_df[['VIP', 'CryoSleep']] = test_df[['VIP', 'CryoSleep']].fillna(value=0)\n",
    "\n",
    "# Creating New Features - Deck, Cabin_num and Side from the column Cabin and remove Cabin\n",
    "test_df[[\"Deck\", \"Cabin_num\", \"Side\"]] = test_df[\"Cabin\"].str.split(\"/\", expand=True)\n",
    "test_df = test_df.drop('Cabin', axis=1)\n",
    "\n",
    "# Convert boolean to 1's and 0's\n",
    "test_df['VIP'] = test_df['VIP'].astype(int)\n",
    "test_df['CryoSleep'] = test_df['CryoSleep'].astype(int)\n",
    "\n",
    "# Convert pd dataframe to tf dataset\n",
    "test_ds = tfdf.keras.pd_dataframe_to_tf_dataset(test_df)\n",
    "\n",
    "# Get the predictions for testdata\n",
    "predictions = rf.predict(test_ds)\n",
    "n_predictions = (predictions > 0.5).astype(bool)\n",
    "output = pd.DataFrame({'PassengerId': submission_id,\n",
    "                       'Transported': n_predictions.squeeze()})\n",
    "\n",
    "output.head()\n"
   ]
  },
  {
   "cell_type": "code",
   "execution_count": 33,
   "id": "a80455d1",
   "metadata": {
    "execution": {
     "iopub.execute_input": "2023-04-06T19:33:45.179061Z",
     "iopub.status.busy": "2023-04-06T19:33:45.177934Z",
     "iopub.status.idle": "2023-04-06T19:33:45.212511Z",
     "shell.execute_reply": "2023-04-06T19:33:45.210762Z"
    },
    "papermill": {
     "duration": 0.055363,
     "end_time": "2023-04-06T19:33:45.215247",
     "exception": false,
     "start_time": "2023-04-06T19:33:45.159884",
     "status": "completed"
    },
    "tags": []
   },
   "outputs": [
    {
     "data": {
      "text/html": [
       "<div>\n",
       "<style scoped>\n",
       "    .dataframe tbody tr th:only-of-type {\n",
       "        vertical-align: middle;\n",
       "    }\n",
       "\n",
       "    .dataframe tbody tr th {\n",
       "        vertical-align: top;\n",
       "    }\n",
       "\n",
       "    .dataframe thead th {\n",
       "        text-align: right;\n",
       "    }\n",
       "</style>\n",
       "<table border=\"1\" class=\"dataframe\">\n",
       "  <thead>\n",
       "    <tr style=\"text-align: right;\">\n",
       "      <th></th>\n",
       "      <th>PassengerId</th>\n",
       "      <th>Transported</th>\n",
       "    </tr>\n",
       "  </thead>\n",
       "  <tbody>\n",
       "    <tr>\n",
       "      <th>0</th>\n",
       "      <td>0013_01</td>\n",
       "      <td>True</td>\n",
       "    </tr>\n",
       "    <tr>\n",
       "      <th>1</th>\n",
       "      <td>0018_01</td>\n",
       "      <td>False</td>\n",
       "    </tr>\n",
       "    <tr>\n",
       "      <th>2</th>\n",
       "      <td>0019_01</td>\n",
       "      <td>True</td>\n",
       "    </tr>\n",
       "    <tr>\n",
       "      <th>3</th>\n",
       "      <td>0021_01</td>\n",
       "      <td>True</td>\n",
       "    </tr>\n",
       "    <tr>\n",
       "      <th>4</th>\n",
       "      <td>0023_01</td>\n",
       "      <td>False</td>\n",
       "    </tr>\n",
       "  </tbody>\n",
       "</table>\n",
       "</div>"
      ],
      "text/plain": [
       "  PassengerId  Transported\n",
       "0     0013_01         True\n",
       "1     0018_01        False\n",
       "2     0019_01         True\n",
       "3     0021_01         True\n",
       "4     0023_01        False"
      ]
     },
     "execution_count": 33,
     "metadata": {},
     "output_type": "execute_result"
    }
   ],
   "source": [
    "sample_submission_df = pd.read_csv('/kaggle/input/spaceship-titanic/sample_submission.csv')\n",
    "sample_submission_df['Transported'] = n_predictions\n",
    "sample_submission_df.to_csv('/kaggle/working/submission.csv', index=False)\n",
    "sample_submission_df.head()"
   ]
  },
  {
   "cell_type": "code",
   "execution_count": null,
   "id": "0c563fa0",
   "metadata": {
    "papermill": {
     "duration": 0.016682,
     "end_time": "2023-04-06T19:33:45.249271",
     "exception": false,
     "start_time": "2023-04-06T19:33:45.232589",
     "status": "completed"
    },
    "tags": []
   },
   "outputs": [],
   "source": []
  }
 ],
 "metadata": {
  "kernelspec": {
   "display_name": "Python 3",
   "language": "python",
   "name": "python3"
  },
  "language_info": {
   "codemirror_mode": {
    "name": "ipython",
    "version": 3
   },
   "file_extension": ".py",
   "mimetype": "text/x-python",
   "name": "python",
   "nbconvert_exporter": "python",
   "pygments_lexer": "ipython3",
   "version": "3.7.12"
  },
  "papermill": {
   "default_parameters": {},
   "duration": 177.945313,
   "end_time": "2023-04-06T19:33:48.272324",
   "environment_variables": {},
   "exception": null,
   "input_path": "__notebook__.ipynb",
   "output_path": "__notebook__.ipynb",
   "parameters": {},
   "start_time": "2023-04-06T19:30:50.327011",
   "version": "2.4.0"
  }
 },
 "nbformat": 4,
 "nbformat_minor": 5
}
